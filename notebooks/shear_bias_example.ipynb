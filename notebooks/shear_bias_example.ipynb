{
 "cells": [
  {
   "cell_type": "markdown",
   "metadata": {},
   "source": [
    "# Shear bias estimation\n",
    "\n",
    "Martin Kilbinger, Arnau Pujol\n",
    "\n",
    "This example notebook creates galaxy and PSF images (using galsim), measures their shapes\n",
    "(with KSB/shapelens), computes the shear bias (shear response matrix), and creates a plot\n",
    "of the bias as function of binned galaxy properties.\n",
    "\n",
    "First, make sure the shear_bias package is installed and can be found.\n",
    "Install the package as follows:\n",
    "```bash\n",
    "cd shear_bias\n",
    "[sudo] python setup.py install [--prefix=<PATH>]\n",
    "```\n",
    "You might need super-user rights (when installing with `sudo`). Alternatively, you can specify a local path for <PATH>, e.g. ~/.local."
   ]
  },
  {
   "cell_type": "code",
   "execution_count": null,
   "metadata": {},
   "outputs": [],
   "source": [
    "from shear_bias import *\n",
    "%matplotlib inline"
   ]
  },
  {
   "cell_type": "markdown",
   "metadata": {},
   "source": [
    "## Setup\n",
    "\n",
    "Variables, file paths, and the job control are set below."
   ]
  },
  {
   "cell_type": "markdown",
   "metadata": {},
   "source": [
    "### Job control"
   ]
  },
  {
   "cell_type": "markdown",
   "metadata": {},
   "source": [
    "#### Flow"
   ]
  },
  {
   "cell_type": "code",
   "execution_count": null,
   "metadata": {},
   "outputs": [],
   "source": [
    "job = param()\n",
    "\n",
    "# Set re_run to True (False) if re-runs of jobs should overwrite (keep)\n",
    "# previously produced output files\n",
    "job.re_run = False\n",
    "\n",
    "# Set dry_run to True (False) for jobs to run in test (real) mode\n",
    "job.dry_run = False"
   ]
  },
  {
   "cell_type": "markdown",
   "metadata": {},
   "source": [
    "#### Program choices"
   ]
  },
  {
   "cell_type": "code",
   "execution_count": null,
   "metadata": {},
   "outputs": [],
   "source": [
    "prog = param()\n",
    "\n",
    "# Simulation generator, options:\n",
    "#   'galsim_cmd': galsim on command line using yaml config files\n",
    "#   'galsim_py': galsim using python interface\n",
    "prog.gen_sim = 'galsim_cmd'\n",
    "\n",
    "# Shape measurement, options:\n",
    "#   'shapelens_cmd':  DEIMOS/shapelens, on command line, KSB or DEIMOS methd\n",
    "#   'galsim_py':      galsim using python interface, various methods\n",
    "prog.shapes = 'shapelens_cmd'\n",
    "\n",
    "# Check whether required programs and/or libraries are installed\n",
    "for name in prog.get_vals():\n",
    "    check_avail(name)"
   ]
  },
  {
   "cell_type": "markdown",
   "metadata": {},
   "source": [
    "### Shear values"
   ]
  },
  {
   "cell_type": "code",
   "execution_count": null,
   "metadata": {},
   "outputs": [],
   "source": [
    "# Small shear change for numerical derivative\n",
    "dg = 0.02"
   ]
  },
  {
   "cell_type": "code",
   "execution_count": null,
   "metadata": {},
   "outputs": [],
   "source": [
    "# List of signs for shear change for the two shear components.\n",
    "\n",
    "# Five steps (one in each direction + (0, 0)\n",
    "g_steps = [(-1, 0), (0, -1), (1, 0), (0, 1), (0, 0)]"
   ]
  },
  {
   "cell_type": "code",
   "execution_count": null,
   "metadata": {},
   "outputs": [],
   "source": [
    "# Create g_dict, dictionary of shear values with step tuples as keys.\n",
    "g_dict = {}\n",
    "for step in g_steps:\n",
    "    g_dict[step] = (step[0] * dg, step[1] * dg)\n",
    "g_values = g_dict.values()"
   ]
  },
  {
   "cell_type": "markdown",
   "metadata": {},
   "source": [
    "### Number of images"
   ]
  },
  {
   "cell_type": "code",
   "execution_count": null,
   "metadata": {},
   "outputs": [],
   "source": [
    "# Number of galaxy postage stamps per image is nxy_tiles^2.\n",
    "# If this number is modified, all output files from a previous\n",
    "# run should be deleted.\n",
    "nxy_tiles = 10\n",
    "#nxy_tiles = 100\n",
    "\n",
    "# Number of files with different constant shear and PSF.\n",
    "# This parameter can be changed without deleting previous output files.\n",
    "nfiles = 5\n",
    "#nfiles = 200"
   ]
  },
  {
   "cell_type": "markdown",
   "metadata": {},
   "source": [
    "### File names and directories"
   ]
  },
  {
   "cell_type": "markdown",
   "metadata": {},
   "source": [
    "#### Galsim"
   ]
  },
  {
   "cell_type": "code",
   "execution_count": null,
   "metadata": {},
   "outputs": [],
   "source": [
    "# Config files\n",
    "galsim_config_fname = 'csc_multishear.yaml'\n",
    "galsim_config_psf_fname = 'csc_psf.yaml'\n",
    "galsim_config_dir = 'config/galsim'\n",
    "\n",
    "# In- and outout directories\n",
    "import os\n",
    "great3_branch = 'control/space/constant'\n",
    "galsim_input_dir = 'input/simulations/galsim/great3/{}'.format(great3_branch)\n",
    "galsim_output_base_dir = 'output/galsim'\n",
    "\n",
    "# Image file name formats\n",
    "galsim_output_gal_fname_format = 'image-%03d-%1d.fits'\n",
    "galsim_output_psf_fname_format = 'starfield_image-%03d-%1d.fits'"
   ]
  },
  {
   "cell_type": "markdown",
   "metadata": {},
   "source": [
    "#### KSB-shapelens"
   ]
  },
  {
   "cell_type": "code",
   "execution_count": null,
   "metadata": {},
   "outputs": [],
   "source": [
    "# Set input directory (= galsim output directory) and output directory\n",
    "ksb_input_base_dir  = galsim_output_base_dir\n",
    "ksb_output_base_dir = 'output/shapelens'"
   ]
  },
  {
   "cell_type": "markdown",
   "metadata": {},
   "source": [
    "#### Shear response"
   ]
  },
  {
   "cell_type": "code",
   "execution_count": null,
   "metadata": {},
   "outputs": [],
   "source": [
    "# Output directory for shear response files\n",
    "R_output_dir = 'output/R'"
   ]
  },
  {
   "cell_type": "markdown",
   "metadata": {},
   "source": [
    "## 2. Main program"
   ]
  },
  {
   "cell_type": "markdown",
   "metadata": {},
   "source": [
    "### Download GREAT3 meta-data and PSF images.\n",
    "Already downloaded files are skipped."
   ]
  },
  {
   "cell_type": "code",
   "execution_count": null,
   "metadata": {},
   "outputs": [],
   "source": [
    "remote_dir = 'https://github.com/martinkilbinger/ede18_shear_cal/blob/master/data/great3/{}'\\\n",
    "   .format(great3_branch)\n",
    "n_downloaded = download_great3_data(galsim_input_dir, remote_dir, great3_branch, nfiles, mode='?raw=true')"
   ]
  },
  {
   "cell_type": "markdown",
   "metadata": {},
   "source": [
    "### Create images with galsim"
   ]
  },
  {
   "cell_type": "code",
   "execution_count": null,
   "metadata": {},
   "outputs": [],
   "source": [
    "# Set paths\n",
    "galsim_config_path     = '{}/{}'.format(galsim_config_dir, galsim_config_fname)\n",
    "galsim_config_psf_path = '{}/{}'.format(galsim_config_dir, galsim_config_psf_fname)\n",
    "\n",
    "# Call galsim\n",
    "create_all_sims_great3(g_values, galsim_config_path, galsim_config_psf_path, \\\n",
    "        galsim_input_dir, galsim_output_base_dir, galsim_output_gal_fname_format, \\\n",
    "        galsim_output_psf_fname_format, nxy_tiles=nxy_tiles, nfiles=nfiles, job=job)"
   ]
  },
  {
   "cell_type": "markdown",
   "metadata": {},
   "source": [
    "### Measure shapes with KSB (shapelens)"
   ]
  },
  {
   "cell_type": "code",
   "execution_count": null,
   "metadata": {},
   "outputs": [],
   "source": [
    "# call get_shapes\n",
    "all_shapes_shapelens(g_values, ksb_input_base_dir, ksb_output_base_dir, nfiles, nxy_tiles, job=job)"
   ]
  },
  {
   "cell_type": "markdown",
   "metadata": {},
   "source": [
    "### Read shear estimate results from files"
   ]
  },
  {
   "cell_type": "code",
   "execution_count": null,
   "metadata": {},
   "outputs": [],
   "source": [
    "# Set input directories = KSB and galsim output directories\n",
    "results_input_base_dir  = ksb_output_base_dir\n",
    "psf_input_dir           = '{}/psf/'.format(galsim_output_base_dir)\n",
    "\n",
    "# Read files\n",
    "results = all_read_shapelens(g_dict, results_input_base_dir, psf_input_dir, nfiles, nobj_per_file_exp=nxy_tiles**2)"
   ]
  },
  {
   "cell_type": "markdown",
   "metadata": {},
   "source": [
    "### Compute shear response matrix and save to file"
   ]
  },
  {
   "cell_type": "code",
   "execution_count": null,
   "metadata": {},
   "outputs": [],
   "source": [
    "# Compute shear response\n",
    "R = shear_response(results, dg, output_dir=R_output_dir)"
   ]
  },
  {
   "cell_type": "markdown",
   "metadata": {},
   "source": [
    "### Compute and print mean and std of shear response matrix"
   ]
  },
  {
   "cell_type": "code",
   "execution_count": null,
   "metadata": {},
   "outputs": [],
   "source": [
    "# If not compute above, shear response can be read from files\n",
    "#R = read_R(R_output_dir)\n",
    "\n",
    "print('mean(R)')\n",
    "print(R.mean(axis=2))\n",
    "\n",
    "print('std(R)')\n",
    "print(R.std(axis=2))"
   ]
  },
  {
   "cell_type": "markdown",
   "metadata": {},
   "source": [
    "### Plot shear response"
   ]
  },
  {
   "cell_type": "code",
   "execution_count": null,
   "metadata": {},
   "outputs": [],
   "source": [
    "# Variable on x-axis\n",
    "xvar  = results[(0, 0)].sn\n",
    "\n",
    "# Variable name = xlabel\n",
    "xname = 'SNR'\n",
    "\n",
    "# Number of x-bins\n",
    "nbins = 3\n",
    "\n",
    "# Variables on y-axis, can be array for multiple curves in plot\n",
    "yvar   = [shear_bias_m(R, i) for i in [0, 1]]\n",
    "yvar.append(R[0,1])\n",
    "\n",
    "# Variable names for legend\n",
    "yname  = ['$m_1$', '$m_2$', '$R_{12}$']\n",
    "\n",
    "# Color of points and error bars\n",
    "color  = ['g', 'r', 'b']\n",
    "\n",
    "# Point types\n",
    "marker = ['o', 's', 'd']\n",
    "\n",
    "# Create plot and save to file\n",
    "x_mean, y_mean, y_std = \\\n",
    "    plot_mean_per_bin_several(xvar, xname, yvar, yname, nbins, error_mode='std', \\\n",
    "                              color=color, lw=2, marker=marker, out_name='snr_m1.pdf')"
   ]
  },
  {
   "cell_type": "code",
   "execution_count": null,
   "metadata": {},
   "outputs": [],
   "source": []
  }
 ],
 "metadata": {
  "kernelspec": {
   "display_name": "Python 3",
   "language": "python",
   "name": "python3"
  },
  "language_info": {
   "codemirror_mode": {
    "name": "ipython",
    "version": 2
   },
   "file_extension": ".py",
   "mimetype": "text/x-python",
   "name": "python",
   "nbconvert_exporter": "python",
   "pygments_lexer": "ipython2",
   "version": "2.7.16"
  }
 },
 "nbformat": 4,
 "nbformat_minor": 2
}
