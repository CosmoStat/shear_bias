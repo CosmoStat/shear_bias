{
 "cells": [
  {
   "cell_type": "markdown",
   "metadata": {},
   "source": [
    "# Shear bias estimation"
   ]
  },
  {
   "cell_type": "code",
   "execution_count": 1,
   "metadata": {},
   "outputs": [],
   "source": [
    "from shear_bias import *"
   ]
  },
  {
   "cell_type": "markdown",
   "metadata": {},
   "source": [
    "## Setup"
   ]
  },
  {
   "cell_type": "markdown",
   "metadata": {},
   "source": [
    "### Job control"
   ]
  },
  {
   "cell_type": "code",
   "execution_count": 2,
   "metadata": {},
   "outputs": [],
   "source": [
    "job = param()\n",
    "\n",
    "# Set re_run to True (False) if re-runs of jobs should overwrite (keep)\n",
    "# previously produced output files\n",
    "job.re_run = False\n",
    "\n",
    "# Set dry_run to True (False) for jobs to run in test (real) mode\n",
    "job.dry_run = False"
   ]
  },
  {
   "cell_type": "markdown",
   "metadata": {},
   "source": [
    "### Shear values"
   ]
  },
  {
   "cell_type": "code",
   "execution_count": 3,
   "metadata": {},
   "outputs": [],
   "source": [
    "# Small shear change for numerical derivative\n",
    "dg = 0.02"
   ]
  },
  {
   "cell_type": "code",
   "execution_count": 4,
   "metadata": {},
   "outputs": [],
   "source": [
    "# List of signs for shear change for the two shear components.\n",
    "\n",
    "# Five steps (one in each direction + (0, 0)\n",
    "g_steps = [(-1, 0), (0, -1), (1, 0), (0, 1), (0, 0)]"
   ]
  },
  {
   "cell_type": "markdown",
   "metadata": {},
   "source": [
    "### Number of images"
   ]
  },
  {
   "cell_type": "code",
   "execution_count": 5,
   "metadata": {},
   "outputs": [],
   "source": [
    "# Number of galaxy postage stamps per image is nxy_tiles^2\n",
    "nxy_tiles = 2\n",
    "#nxy_tiles = 100\n",
    "\n",
    "# Number of files with different constant shear and PSF\n",
    "nfiles    =  10\n",
    "#nfiles   = 200"
   ]
  },
  {
   "cell_type": "markdown",
   "metadata": {},
   "source": [
    "### Galsim file names and directories"
   ]
  },
  {
   "cell_type": "code",
   "execution_count": 6,
   "metadata": {},
   "outputs": [],
   "source": [
    "# Config files\n",
    "galsim_config_fname     = 'csc_multishear.yaml'\n",
    "galsim_config_psf_fname = 'csc_psf.yaml'\n",
    "galsim_config_dir       = 'config/galsim'\n",
    "\n",
    "# In- and outout directories\n",
    "galsim_input_dir       = 'data/galsim/great3/control/space/constant'\n",
    "galsim_output_base_dir = 'output/galsim'\n",
    "\n",
    "# Image file name formats\n",
    "galsim_output_gal_fname_format = 'image-%03d-%1d.fits'\n",
    "galsim_output_psf_fname_format = 'starfield_image-%03d-%1d.fits'"
   ]
  },
  {
   "cell_type": "markdown",
   "metadata": {},
   "source": [
    "## Main program"
   ]
  },
  {
   "cell_type": "code",
   "execution_count": 7,
   "metadata": {},
   "outputs": [],
   "source": [
    "# Create g_dict, dictionary of shear values with step tuples as keys.\n",
    "g_dict = {}\n",
    "for step in g_steps:\n",
    "    g_dict[step] = (step[0] * dg, step[1] * dg)\n",
    "g_values = g_dict.values()"
   ]
  },
  {
   "cell_type": "markdown",
   "metadata": {},
   "source": [
    "### Create images with galsim"
   ]
  },
  {
   "cell_type": "code",
   "execution_count": 8,
   "metadata": {},
   "outputs": [
    {
     "name": "stdout",
     "output_type": "stream",
     "text": [
      "*** Start create_all_sims_great3 ***\n",
      "For shear (0.0,0.02), all images already exist, skipping galsim call\n",
      "For shear (0.0,-0.02), all images already exist, skipping galsim call\n",
      "For shear (0.02,0.0), all images already exist, skipping galsim call\n",
      "For shear (0.0,0.0), all images already exist, skipping galsim call\n",
      "For shear (-0.02,0.0), all images already exist, skipping galsim call\n",
      "All PSF images already exist, skipping galsim call\n",
      "*** End create_all_sims_great3 ***\n"
     ]
    }
   ],
   "source": [
    "# Set paths\n",
    "galsim_config_path     = '{}/{}'.format(galsim_config_dir, galsim_config_fname)\n",
    "galsim_config_psf_path = '{}/{}'.format(galsim_config_dir, galsim_config_psf_fname)\n",
    "\n",
    "# Call galsim\n",
    "create_all_sims_great3(g_values, galsim_config_path, galsim_config_psf_path, \\\n",
    "        galsim_input_dir, galsim_output_base_dir, galsim_output_gal_fname_format, \\\n",
    "        galsim_output_psf_fname_format, nxy_tiles=nxy_tiles, nfiles=nfiles, job=job)"
   ]
  },
  {
   "cell_type": "markdown",
   "metadata": {},
   "source": [
    "### Measure shapes with KSB (shapelens)"
   ]
  },
  {
   "cell_type": "code",
   "execution_count": 9,
   "metadata": {},
   "outputs": [],
   "source": [
    "# Set input directory (= galsim output directory) and output directory\n",
    "ksb_input_base_dir  = galsim_output_base_dir\n",
    "ksb_output_base_dir = 'output/shapelens'"
   ]
  },
  {
   "cell_type": "code",
   "execution_count": 10,
   "metadata": {},
   "outputs": [
    {
     "name": "stdout",
     "output_type": "stream",
     "text": [
      "*** Start all_shapes_shapelens ***\n",
      "keeping existing file output/shapelens/g1_0.0_g2_0.02/result-000.txt, not running get_shapes -T -g 2 -p output/galsim/psf/starfield_image-000-0.fits output/galsim/g1_0.0_g2_0.02/image-000-0.fits > output/shapelens/g1_0.0_g2_0.02/result-000.txt\n",
      "keeping existing file output/shapelens/g1_0.0_g2_-0.02/result-000.txt, not running get_shapes -T -g 2 -p output/galsim/psf/starfield_image-000-0.fits output/galsim/g1_0.0_g2_-0.02/image-000-0.fits > output/shapelens/g1_0.0_g2_-0.02/result-000.txt\n",
      "keeping existing file output/shapelens/g1_0.02_g2_0.0/result-000.txt, not running get_shapes -T -g 2 -p output/galsim/psf/starfield_image-000-0.fits output/galsim/g1_0.02_g2_0.0/image-000-0.fits > output/shapelens/g1_0.02_g2_0.0/result-000.txt\n",
      "keeping existing file output/shapelens/g1_0.0_g2_0.0/result-000.txt, not running get_shapes -T -g 2 -p output/galsim/psf/starfield_image-000-0.fits output/galsim/g1_0.0_g2_0.0/image-000-0.fits > output/shapelens/g1_0.0_g2_0.0/result-000.txt\n",
      "keeping existing file output/shapelens/g1_-0.02_g2_0.0/result-000.txt, not running get_shapes -T -g 2 -p output/galsim/psf/starfield_image-000-0.fits output/galsim/g1_-0.02_g2_0.0/image-000-0.fits > output/shapelens/g1_-0.02_g2_0.0/result-000.txt\n",
      "keeping existing file output/shapelens/g1_0.0_g2_0.02/result-001.txt, not running get_shapes -T -g 2 -p output/galsim/psf/starfield_image-001-0.fits output/galsim/g1_0.0_g2_0.02/image-001-0.fits > output/shapelens/g1_0.0_g2_0.02/result-001.txt\n",
      "keeping existing file output/shapelens/g1_0.0_g2_-0.02/result-001.txt, not running get_shapes -T -g 2 -p output/galsim/psf/starfield_image-001-0.fits output/galsim/g1_0.0_g2_-0.02/image-001-0.fits > output/shapelens/g1_0.0_g2_-0.02/result-001.txt\n",
      "keeping existing file output/shapelens/g1_0.02_g2_0.0/result-001.txt, not running get_shapes -T -g 2 -p output/galsim/psf/starfield_image-001-0.fits output/galsim/g1_0.02_g2_0.0/image-001-0.fits > output/shapelens/g1_0.02_g2_0.0/result-001.txt\n",
      "keeping existing file output/shapelens/g1_0.0_g2_0.0/result-001.txt, not running get_shapes -T -g 2 -p output/galsim/psf/starfield_image-001-0.fits output/galsim/g1_0.0_g2_0.0/image-001-0.fits > output/shapelens/g1_0.0_g2_0.0/result-001.txt\n",
      "keeping existing file output/shapelens/g1_-0.02_g2_0.0/result-001.txt, not running get_shapes -T -g 2 -p output/galsim/psf/starfield_image-001-0.fits output/galsim/g1_-0.02_g2_0.0/image-001-0.fits > output/shapelens/g1_-0.02_g2_0.0/result-001.txt\n",
      "keeping existing file output/shapelens/g1_0.0_g2_0.02/result-002.txt, not running get_shapes -T -g 2 -p output/galsim/psf/starfield_image-002-0.fits output/galsim/g1_0.0_g2_0.02/image-002-0.fits > output/shapelens/g1_0.0_g2_0.02/result-002.txt\n",
      "keeping existing file output/shapelens/g1_0.0_g2_-0.02/result-002.txt, not running get_shapes -T -g 2 -p output/galsim/psf/starfield_image-002-0.fits output/galsim/g1_0.0_g2_-0.02/image-002-0.fits > output/shapelens/g1_0.0_g2_-0.02/result-002.txt\n",
      "keeping existing file output/shapelens/g1_0.02_g2_0.0/result-002.txt, not running get_shapes -T -g 2 -p output/galsim/psf/starfield_image-002-0.fits output/galsim/g1_0.02_g2_0.0/image-002-0.fits > output/shapelens/g1_0.02_g2_0.0/result-002.txt\n",
      "keeping existing file output/shapelens/g1_0.0_g2_0.0/result-002.txt, not running get_shapes -T -g 2 -p output/galsim/psf/starfield_image-002-0.fits output/galsim/g1_0.0_g2_0.0/image-002-0.fits > output/shapelens/g1_0.0_g2_0.0/result-002.txt\n",
      "keeping existing file output/shapelens/g1_-0.02_g2_0.0/result-002.txt, not running get_shapes -T -g 2 -p output/galsim/psf/starfield_image-002-0.fits output/galsim/g1_-0.02_g2_0.0/image-002-0.fits > output/shapelens/g1_-0.02_g2_0.0/result-002.txt\n",
      "keeping existing file output/shapelens/g1_0.0_g2_0.02/result-003.txt, not running get_shapes -T -g 2 -p output/galsim/psf/starfield_image-003-0.fits output/galsim/g1_0.0_g2_0.02/image-003-0.fits > output/shapelens/g1_0.0_g2_0.02/result-003.txt\n",
      "keeping existing file output/shapelens/g1_0.0_g2_-0.02/result-003.txt, not running get_shapes -T -g 2 -p output/galsim/psf/starfield_image-003-0.fits output/galsim/g1_0.0_g2_-0.02/image-003-0.fits > output/shapelens/g1_0.0_g2_-0.02/result-003.txt\n",
      "keeping existing file output/shapelens/g1_0.02_g2_0.0/result-003.txt, not running get_shapes -T -g 2 -p output/galsim/psf/starfield_image-003-0.fits output/galsim/g1_0.02_g2_0.0/image-003-0.fits > output/shapelens/g1_0.02_g2_0.0/result-003.txt\n",
      "keeping existing file output/shapelens/g1_0.0_g2_0.0/result-003.txt, not running get_shapes -T -g 2 -p output/galsim/psf/starfield_image-003-0.fits output/galsim/g1_0.0_g2_0.0/image-003-0.fits > output/shapelens/g1_0.0_g2_0.0/result-003.txt\n",
      "keeping existing file output/shapelens/g1_-0.02_g2_0.0/result-003.txt, not running get_shapes -T -g 2 -p output/galsim/psf/starfield_image-003-0.fits output/galsim/g1_-0.02_g2_0.0/image-003-0.fits > output/shapelens/g1_-0.02_g2_0.0/result-003.txt\n",
      "keeping existing file output/shapelens/g1_0.0_g2_0.02/result-004.txt, not running get_shapes -T -g 2 -p output/galsim/psf/starfield_image-004-0.fits output/galsim/g1_0.0_g2_0.02/image-004-0.fits > output/shapelens/g1_0.0_g2_0.02/result-004.txt\n",
      "keeping existing file output/shapelens/g1_0.0_g2_-0.02/result-004.txt, not running get_shapes -T -g 2 -p output/galsim/psf/starfield_image-004-0.fits output/galsim/g1_0.0_g2_-0.02/image-004-0.fits > output/shapelens/g1_0.0_g2_-0.02/result-004.txt\n",
      "keeping existing file output/shapelens/g1_0.02_g2_0.0/result-004.txt, not running get_shapes -T -g 2 -p output/galsim/psf/starfield_image-004-0.fits output/galsim/g1_0.02_g2_0.0/image-004-0.fits > output/shapelens/g1_0.02_g2_0.0/result-004.txt\n",
      "keeping existing file output/shapelens/g1_0.0_g2_0.0/result-004.txt, not running get_shapes -T -g 2 -p output/galsim/psf/starfield_image-004-0.fits output/galsim/g1_0.0_g2_0.0/image-004-0.fits > output/shapelens/g1_0.0_g2_0.0/result-004.txt\n",
      "keeping existing file output/shapelens/g1_-0.02_g2_0.0/result-004.txt, not running get_shapes -T -g 2 -p output/galsim/psf/starfield_image-004-0.fits output/galsim/g1_-0.02_g2_0.0/image-004-0.fits > output/shapelens/g1_-0.02_g2_0.0/result-004.txt\n",
      "keeping existing file output/shapelens/g1_0.0_g2_0.02/result-005.txt, not running get_shapes -T -g 2 -p output/galsim/psf/starfield_image-005-0.fits output/galsim/g1_0.0_g2_0.02/image-005-0.fits > output/shapelens/g1_0.0_g2_0.02/result-005.txt\n",
      "keeping existing file output/shapelens/g1_0.0_g2_-0.02/result-005.txt, not running get_shapes -T -g 2 -p output/galsim/psf/starfield_image-005-0.fits output/galsim/g1_0.0_g2_-0.02/image-005-0.fits > output/shapelens/g1_0.0_g2_-0.02/result-005.txt\n",
      "keeping existing file output/shapelens/g1_0.02_g2_0.0/result-005.txt, not running get_shapes -T -g 2 -p output/galsim/psf/starfield_image-005-0.fits output/galsim/g1_0.02_g2_0.0/image-005-0.fits > output/shapelens/g1_0.02_g2_0.0/result-005.txt\n",
      "keeping existing file output/shapelens/g1_0.0_g2_0.0/result-005.txt, not running get_shapes -T -g 2 -p output/galsim/psf/starfield_image-005-0.fits output/galsim/g1_0.0_g2_0.0/image-005-0.fits > output/shapelens/g1_0.0_g2_0.0/result-005.txt\n",
      "keeping existing file output/shapelens/g1_-0.02_g2_0.0/result-005.txt, not running get_shapes -T -g 2 -p output/galsim/psf/starfield_image-005-0.fits output/galsim/g1_-0.02_g2_0.0/image-005-0.fits > output/shapelens/g1_-0.02_g2_0.0/result-005.txt\n",
      "keeping existing file output/shapelens/g1_0.0_g2_0.02/result-006.txt, not running get_shapes -T -g 2 -p output/galsim/psf/starfield_image-006-0.fits output/galsim/g1_0.0_g2_0.02/image-006-0.fits > output/shapelens/g1_0.0_g2_0.02/result-006.txt\n",
      "keeping existing file output/shapelens/g1_0.0_g2_-0.02/result-006.txt, not running get_shapes -T -g 2 -p output/galsim/psf/starfield_image-006-0.fits output/galsim/g1_0.0_g2_-0.02/image-006-0.fits > output/shapelens/g1_0.0_g2_-0.02/result-006.txt\n",
      "keeping existing file output/shapelens/g1_0.02_g2_0.0/result-006.txt, not running get_shapes -T -g 2 -p output/galsim/psf/starfield_image-006-0.fits output/galsim/g1_0.02_g2_0.0/image-006-0.fits > output/shapelens/g1_0.02_g2_0.0/result-006.txt\n",
      "keeping existing file output/shapelens/g1_0.0_g2_0.0/result-006.txt, not running get_shapes -T -g 2 -p output/galsim/psf/starfield_image-006-0.fits output/galsim/g1_0.0_g2_0.0/image-006-0.fits > output/shapelens/g1_0.0_g2_0.0/result-006.txt\n",
      "keeping existing file output/shapelens/g1_-0.02_g2_0.0/result-006.txt, not running get_shapes -T -g 2 -p output/galsim/psf/starfield_image-006-0.fits output/galsim/g1_-0.02_g2_0.0/image-006-0.fits > output/shapelens/g1_-0.02_g2_0.0/result-006.txt\n",
      "keeping existing file output/shapelens/g1_0.0_g2_0.02/result-007.txt, not running get_shapes -T -g 2 -p output/galsim/psf/starfield_image-007-0.fits output/galsim/g1_0.0_g2_0.02/image-007-0.fits > output/shapelens/g1_0.0_g2_0.02/result-007.txt\n",
      "keeping existing file output/shapelens/g1_0.0_g2_-0.02/result-007.txt, not running get_shapes -T -g 2 -p output/galsim/psf/starfield_image-007-0.fits output/galsim/g1_0.0_g2_-0.02/image-007-0.fits > output/shapelens/g1_0.0_g2_-0.02/result-007.txt\n",
      "keeping existing file output/shapelens/g1_0.02_g2_0.0/result-007.txt, not running get_shapes -T -g 2 -p output/galsim/psf/starfield_image-007-0.fits output/galsim/g1_0.02_g2_0.0/image-007-0.fits > output/shapelens/g1_0.02_g2_0.0/result-007.txt\n",
      "keeping existing file output/shapelens/g1_0.0_g2_0.0/result-007.txt, not running get_shapes -T -g 2 -p output/galsim/psf/starfield_image-007-0.fits output/galsim/g1_0.0_g2_0.0/image-007-0.fits > output/shapelens/g1_0.0_g2_0.0/result-007.txt\n",
      "keeping existing file output/shapelens/g1_-0.02_g2_0.0/result-007.txt, not running get_shapes -T -g 2 -p output/galsim/psf/starfield_image-007-0.fits output/galsim/g1_-0.02_g2_0.0/image-007-0.fits > output/shapelens/g1_-0.02_g2_0.0/result-007.txt\n",
      "keeping existing file output/shapelens/g1_0.0_g2_0.02/result-008.txt, not running get_shapes -T -g 2 -p output/galsim/psf/starfield_image-008-0.fits output/galsim/g1_0.0_g2_0.02/image-008-0.fits > output/shapelens/g1_0.0_g2_0.02/result-008.txt\n",
      "keeping existing file output/shapelens/g1_0.0_g2_-0.02/result-008.txt, not running get_shapes -T -g 2 -p output/galsim/psf/starfield_image-008-0.fits output/galsim/g1_0.0_g2_-0.02/image-008-0.fits > output/shapelens/g1_0.0_g2_-0.02/result-008.txt\n",
      "keeping existing file output/shapelens/g1_0.02_g2_0.0/result-008.txt, not running get_shapes -T -g 2 -p output/galsim/psf/starfield_image-008-0.fits output/galsim/g1_0.02_g2_0.0/image-008-0.fits > output/shapelens/g1_0.02_g2_0.0/result-008.txt\n",
      "keeping existing file output/shapelens/g1_0.0_g2_0.0/result-008.txt, not running get_shapes -T -g 2 -p output/galsim/psf/starfield_image-008-0.fits output/galsim/g1_0.0_g2_0.0/image-008-0.fits > output/shapelens/g1_0.0_g2_0.0/result-008.txt\n",
      "keeping existing file output/shapelens/g1_-0.02_g2_0.0/result-008.txt, not running get_shapes -T -g 2 -p output/galsim/psf/starfield_image-008-0.fits output/galsim/g1_-0.02_g2_0.0/image-008-0.fits > output/shapelens/g1_-0.02_g2_0.0/result-008.txt\n",
      "keeping existing file output/shapelens/g1_0.0_g2_0.02/result-009.txt, not running get_shapes -T -g 2 -p output/galsim/psf/starfield_image-009-0.fits output/galsim/g1_0.0_g2_0.02/image-009-0.fits > output/shapelens/g1_0.0_g2_0.02/result-009.txt\n",
      "keeping existing file output/shapelens/g1_0.0_g2_-0.02/result-009.txt, not running get_shapes -T -g 2 -p output/galsim/psf/starfield_image-009-0.fits output/galsim/g1_0.0_g2_-0.02/image-009-0.fits > output/shapelens/g1_0.0_g2_-0.02/result-009.txt\n",
      "keeping existing file output/shapelens/g1_0.02_g2_0.0/result-009.txt, not running get_shapes -T -g 2 -p output/galsim/psf/starfield_image-009-0.fits output/galsim/g1_0.02_g2_0.0/image-009-0.fits > output/shapelens/g1_0.02_g2_0.0/result-009.txt\n",
      "keeping existing file output/shapelens/g1_0.0_g2_0.0/result-009.txt, not running get_shapes -T -g 2 -p output/galsim/psf/starfield_image-009-0.fits output/galsim/g1_0.0_g2_0.0/image-009-0.fits > output/shapelens/g1_0.0_g2_0.0/result-009.txt\n",
      "keeping existing file output/shapelens/g1_-0.02_g2_0.0/result-009.txt, not running get_shapes -T -g 2 -p output/galsim/psf/starfield_image-009-0.fits output/galsim/g1_-0.02_g2_0.0/image-009-0.fits > output/shapelens/g1_-0.02_g2_0.0/result-009.txt\n",
      "*** End all_shapes_shapelens ***\n"
     ]
    }
   ],
   "source": [
    "# call get_shapes\n",
    "all_shapes_shapelens(g_values, ksb_input_base_dir, ksb_output_base_dir, nfiles, nxy_tiles, job=job)"
   ]
  },
  {
   "cell_type": "markdown",
   "metadata": {},
   "source": [
    "### Read shear estimate results from files"
   ]
  },
  {
   "cell_type": "code",
   "execution_count": 11,
   "metadata": {},
   "outputs": [
    {
     "name": "stdout",
     "output_type": "stream",
     "text": [
      "*** Start all_read_shapelens ***\n",
      "Read 50 files with measured galaxy properties including shapes.\n",
      "Read 0 files with PSF shapes.\n",
      "*** End all_read_shapelens ***\n"
     ]
    }
   ],
   "source": [
    "# Set input directories = KSB and galsim output directories\n",
    "results_input_base_dir  = ksb_output_base_dir\n",
    "psf_input_dir           = '{}/psf/'.format(galsim_output_base_dir)\n",
    "\n",
    "# Read files.\n",
    "results = all_read_shapelens(g_dict, results_input_base_dir, psf_input_dir, nfiles)"
   ]
  },
  {
   "cell_type": "markdown",
   "metadata": {},
   "source": [
    "### Compute shear response matrix and save to file"
   ]
  },
  {
   "cell_type": "code",
   "execution_count": 13,
   "metadata": {},
   "outputs": [],
   "source": [
    "# Output directory for shear response files\n",
    "R_output_dir = 'output/R'"
   ]
  },
  {
   "cell_type": "code",
   "execution_count": 14,
   "metadata": {},
   "outputs": [
    {
     "name": "stdout",
     "output_type": "stream",
     "text": [
      "*** Start shear_response ***\n",
      "Saving R to file output/R\n",
      "*** End shear_response ***\n"
     ]
    }
   ],
   "source": [
    "# Compute shear response\n",
    "R = shear_response(results, dg, output_dir=R_output_dir)"
   ]
  },
  {
   "cell_type": "markdown",
   "metadata": {},
   "source": [
    "### Compute and print mean and std of shear response matrix"
   ]
  },
  {
   "cell_type": "code",
   "execution_count": 15,
   "metadata": {},
   "outputs": [
    {
     "name": "stdout",
     "output_type": "stream",
     "text": [
      "mean(R)\n",
      "[[ 0.94035822 -0.00808644]\n",
      " [ 0.00176651  0.94069214]]\n",
      "std(R)\n",
      "[[0.24473969 0.08859729]\n",
      " [0.08682244 0.27826104]]\n"
     ]
    }
   ],
   "source": [
    "# If not compute above, shear response can be read from files\n",
    "#R = read_R(R_output_dir)\n",
    "\n",
    "print('mean(R)')\n",
    "print(R.mean(axis=2))\n",
    "\n",
    "print('std(R)')\n",
    "print(R.std(axis=2))"
   ]
  },
  {
   "cell_type": "markdown",
   "metadata": {},
   "source": [
    "### Plot shear response"
   ]
  },
  {
   "cell_type": "code",
   "execution_count": 16,
   "metadata": {},
   "outputs": [
    {
     "name": "stdout",
     "output_type": "stream",
     "text": [
      "Plot saved to snr_m1.pdf\n"
     ]
    }
   ],
   "source": [
    "# Variable on x-axis\n",
    "xvar  = results[(0, 0)].sn\n",
    "\n",
    "# Variable name = xlabel\n",
    "xname = 'SNR'\n",
    "\n",
    "# Number of x-bins\n",
    "nbins = 3\n",
    "\n",
    "# Variables on y-axis, can be array for multiple curves in plot\n",
    "yvar   = [shear_bias_m(R, i) for i in [0, 1]]\n",
    "yvar.append(R[0,1])\n",
    "\n",
    "# Variable names for legend\n",
    "yname  = ['$m_1$', '$m_2$', '$R_{12}$']\n",
    "\n",
    "# Color of points and error bars\n",
    "color  = ['g', 'r', 'b']\n",
    "\n",
    "# Point types\n",
    "marker = ['o', 's', 'd']\n",
    "\n",
    "# Create plot and save to file\n",
    "x_mean, y_mean, y_std = plot_mean_per_bin_several(xvar, xname, yvar, yname, nbins, error_mode='std', \\\n",
    "        color=color, lw=2, marker=marker, out_name='snr_m1.pdf')"
   ]
  },
  {
   "cell_type": "code",
   "execution_count": null,
   "metadata": {},
   "outputs": [],
   "source": []
  }
 ],
 "metadata": {
  "kernelspec": {
   "display_name": "Python 2",
   "language": "python",
   "name": "python2"
  },
  "language_info": {
   "codemirror_mode": {
    "name": "ipython",
    "version": 2
   },
   "file_extension": ".py",
   "mimetype": "text/x-python",
   "name": "python",
   "nbconvert_exporter": "python",
   "pygments_lexer": "ipython2",
   "version": "2.7.10"
  }
 },
 "nbformat": 4,
 "nbformat_minor": 2
}
