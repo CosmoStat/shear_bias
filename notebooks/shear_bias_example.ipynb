{
 "cells": [
  {
   "cell_type": "markdown",
   "metadata": {},
   "source": [
    "# Shear bias estimation\n",
    "\n",
    "Martin Kilbinger, Arnau Pujol\n",
    "\n",
    "This example notebook creates galaxy and PSF images (using galsim), measures their shapes\n",
    "(with KSB/shapelens), computes the shear bias (shear response matrix), and creates a plot\n",
    "of the bias as function of binned galaxy properties.\n",
    "\n",
    "First, make sure the shear_bias package is installed and can be found.\n",
    "Install the package as follows:\n",
    "```bash\n",
    "cd shear_bias\n",
    "[sudo] python setup.py install [--prefix=<PATH>]\n",
    "```\n",
    "You might need super-user rights (when installing with `sudo`). Alternatively, you can specify a local path for <PATH>, e.g. ~/.local."
   ]
  },
  {
   "cell_type": "code",
   "execution_count": 40,
   "metadata": {},
   "outputs": [],
   "source": [
    "from shear_bias import *\n",
    "%matplotlib inline"
   ]
  },
  {
   "cell_type": "markdown",
   "metadata": {},
   "source": [
    "## Setup\n",
    "\n",
    "Variables, file paths, and the job control are set below."
   ]
  },
  {
   "cell_type": "markdown",
   "metadata": {},
   "source": [
    "### Job control"
   ]
  },
  {
   "cell_type": "code",
   "execution_count": 2,
   "metadata": {},
   "outputs": [],
   "source": [
    "job = param()\n",
    "\n",
    "# Set re_run to True (False) if re-runs of jobs should overwrite (keep)\n",
    "# previously produced output files\n",
    "job.re_run = False\n",
    "\n",
    "# Set dry_run to True (False) for jobs to run in test (real) mode\n",
    "job.dry_run = False"
   ]
  },
  {
   "cell_type": "markdown",
   "metadata": {},
   "source": [
    "### Shear values"
   ]
  },
  {
   "cell_type": "code",
   "execution_count": 3,
   "metadata": {},
   "outputs": [],
   "source": [
    "# Small shear change for numerical derivative\n",
    "dg = 0.02"
   ]
  },
  {
   "cell_type": "code",
   "execution_count": 4,
   "metadata": {},
   "outputs": [],
   "source": [
    "# List of signs for shear change for the two shear components.\n",
    "\n",
    "# Five steps (one in each direction + (0, 0)\n",
    "g_steps = [(-1, 0), (0, -1), (1, 0), (0, 1), (0, 0)]"
   ]
  },
  {
   "cell_type": "code",
   "execution_count": 5,
   "metadata": {},
   "outputs": [],
   "source": [
    "# Create g_dict, dictionary of shear values with step tuples as keys.\n",
    "g_dict = {}\n",
    "for step in g_steps:\n",
    "    g_dict[step] = (step[0] * dg, step[1] * dg)\n",
    "g_values = g_dict.values()"
   ]
  },
  {
   "cell_type": "markdown",
   "metadata": {},
   "source": [
    "### Number of images"
   ]
  },
  {
   "cell_type": "code",
   "execution_count": 42,
   "metadata": {},
   "outputs": [],
   "source": [
    "# Number of galaxy postage stamps per image is nxy_tiles^2.\n",
    "# If this number is modified, all output files from a previous\n",
    "# run should be deleted.\n",
    "nxy_tiles = 10\n",
    "#nxy_tiles = 100\n",
    "\n",
    "# Number of files with different constant shear and PSF.\n",
    "# This parameter can be changed without deleting previous output files.\n",
    "nfiles    =  20\n",
    "#nfiles   = 200"
   ]
  },
  {
   "cell_type": "markdown",
   "metadata": {},
   "source": [
    "### File names and directories"
   ]
  },
  {
   "cell_type": "markdown",
   "metadata": {},
   "source": [
    "#### Galsim"
   ]
  },
  {
   "cell_type": "code",
   "execution_count": 43,
   "metadata": {},
   "outputs": [],
   "source": [
    "# Config files\n",
    "galsim_config_fname     = 'csc_multishear.yaml'\n",
    "galsim_config_psf_fname = 'csc_psf.yaml'\n",
    "galsim_config_dir       = 'config/galsim'\n",
    "\n",
    "# In- and outout directories\n",
    "import os\n",
    "great3_branch          = 'control/space/constant'\n",
    "galsim_input_dir       = '{}/astro/simulations/galsim/great3/{}'.\\\n",
    "    format(os.environ['HOME'], great3_branch)\n",
    "galsim_output_base_dir = 'output/galsim'\n",
    "\n",
    "# Image file name formats\n",
    "galsim_output_gal_fname_format = 'image-%03d-%1d.fits'\n",
    "galsim_output_psf_fname_format = 'starfield_image-%03d-%1d.fits'"
   ]
  },
  {
   "cell_type": "markdown",
   "metadata": {},
   "source": [
    "#### KSB-shapelens"
   ]
  },
  {
   "cell_type": "code",
   "execution_count": 44,
   "metadata": {},
   "outputs": [],
   "source": [
    "# Set input directory (= galsim output directory) and output directory\n",
    "ksb_input_base_dir  = galsim_output_base_dir\n",
    "ksb_output_base_dir = 'output/shapelens'"
   ]
  },
  {
   "cell_type": "markdown",
   "metadata": {},
   "source": [
    "#### Shear response"
   ]
  },
  {
   "cell_type": "code",
   "execution_count": 45,
   "metadata": {},
   "outputs": [],
   "source": [
    "# Output directory for shear response files\n",
    "R_output_dir = 'output/R'"
   ]
  },
  {
   "cell_type": "markdown",
   "metadata": {},
   "source": [
    "## 2. Main program"
   ]
  },
  {
   "cell_type": "markdown",
   "metadata": {},
   "source": [
    "### Download GREAT3 meta-data and PSF images.\n",
    "Already downloaded files are skipped."
   ]
  },
  {
   "cell_type": "code",
   "execution_count": 46,
   "metadata": {},
   "outputs": [
    {
     "name": "stdout",
     "output_type": "stream",
     "text": [
      "File /Users/mkilbing/astro/simulations/galsim/great3/control/space/constant/epoch_catalog-000-0.fits exists, skipping...\n",
      "File /Users/mkilbing/astro/simulations/galsim/great3/control/space/constant/epoch_catalog-001-0.fits exists, skipping...\n",
      "File /Users/mkilbing/astro/simulations/galsim/great3/control/space/constant/epoch_catalog-002-0.fits exists, skipping...\n",
      "File /Users/mkilbing/astro/simulations/galsim/great3/control/space/constant/epoch_catalog-003-0.fits exists, skipping...\n",
      "File /Users/mkilbing/astro/simulations/galsim/great3/control/space/constant/epoch_catalog-004-0.fits exists, skipping...\n",
      "File /Users/mkilbing/astro/simulations/galsim/great3/control/space/constant/epoch_catalog-005-0.fits exists, skipping...\n",
      "File /Users/mkilbing/astro/simulations/galsim/great3/control/space/constant/epoch_catalog-006-0.fits exists, skipping...\n",
      "File /Users/mkilbing/astro/simulations/galsim/great3/control/space/constant/epoch_catalog-007-0.fits exists, skipping...\n",
      "File /Users/mkilbing/astro/simulations/galsim/great3/control/space/constant/epoch_catalog-008-0.fits exists, skipping...\n",
      "File /Users/mkilbing/astro/simulations/galsim/great3/control/space/constant/epoch_catalog-009-0.fits exists, skipping...\n",
      "Downloading https://github.com/martinkilbinger/ede18_shear_cal/blob/master/data/great3/control/space/constant/epoch_catalog-010-0.fits?raw=true to /Users/mkilbing/astro/simulations/galsim/great3/control/space/constant/epoch_catalog-010-0.fits...\n",
      "Downloading https://github.com/martinkilbinger/ede18_shear_cal/blob/master/data/great3/control/space/constant/epoch_catalog-011-0.fits?raw=true to /Users/mkilbing/astro/simulations/galsim/great3/control/space/constant/epoch_catalog-011-0.fits...\n",
      "Downloading https://github.com/martinkilbinger/ede18_shear_cal/blob/master/data/great3/control/space/constant/epoch_catalog-012-0.fits?raw=true to /Users/mkilbing/astro/simulations/galsim/great3/control/space/constant/epoch_catalog-012-0.fits...\n",
      "Downloading https://github.com/martinkilbinger/ede18_shear_cal/blob/master/data/great3/control/space/constant/epoch_catalog-013-0.fits?raw=true to /Users/mkilbing/astro/simulations/galsim/great3/control/space/constant/epoch_catalog-013-0.fits...\n",
      "Downloading https://github.com/martinkilbinger/ede18_shear_cal/blob/master/data/great3/control/space/constant/epoch_catalog-014-0.fits?raw=true to /Users/mkilbing/astro/simulations/galsim/great3/control/space/constant/epoch_catalog-014-0.fits...\n",
      "Downloading https://github.com/martinkilbinger/ede18_shear_cal/blob/master/data/great3/control/space/constant/epoch_catalog-015-0.fits?raw=true to /Users/mkilbing/astro/simulations/galsim/great3/control/space/constant/epoch_catalog-015-0.fits...\n",
      "Downloading https://github.com/martinkilbinger/ede18_shear_cal/blob/master/data/great3/control/space/constant/epoch_catalog-016-0.fits?raw=true to /Users/mkilbing/astro/simulations/galsim/great3/control/space/constant/epoch_catalog-016-0.fits...\n",
      "Downloading https://github.com/martinkilbinger/ede18_shear_cal/blob/master/data/great3/control/space/constant/epoch_catalog-017-0.fits?raw=true to /Users/mkilbing/astro/simulations/galsim/great3/control/space/constant/epoch_catalog-017-0.fits...\n",
      "Downloading https://github.com/martinkilbinger/ede18_shear_cal/blob/master/data/great3/control/space/constant/epoch_catalog-018-0.fits?raw=true to /Users/mkilbing/astro/simulations/galsim/great3/control/space/constant/epoch_catalog-018-0.fits...\n",
      "Downloading https://github.com/martinkilbinger/ede18_shear_cal/blob/master/data/great3/control/space/constant/epoch_catalog-019-0.fits?raw=true to /Users/mkilbing/astro/simulations/galsim/great3/control/space/constant/epoch_catalog-019-0.fits...\n",
      "File /Users/mkilbing/astro/simulations/galsim/great3/control/space/constant/epoch_parameters-000-0.yaml exists, skipping...\n",
      "File /Users/mkilbing/astro/simulations/galsim/great3/control/space/constant/epoch_parameters-001-0.yaml exists, skipping...\n",
      "File /Users/mkilbing/astro/simulations/galsim/great3/control/space/constant/epoch_parameters-002-0.yaml exists, skipping...\n",
      "File /Users/mkilbing/astro/simulations/galsim/great3/control/space/constant/epoch_parameters-003-0.yaml exists, skipping...\n",
      "File /Users/mkilbing/astro/simulations/galsim/great3/control/space/constant/epoch_parameters-004-0.yaml exists, skipping...\n",
      "File /Users/mkilbing/astro/simulations/galsim/great3/control/space/constant/epoch_parameters-005-0.yaml exists, skipping...\n",
      "File /Users/mkilbing/astro/simulations/galsim/great3/control/space/constant/epoch_parameters-006-0.yaml exists, skipping...\n",
      "File /Users/mkilbing/astro/simulations/galsim/great3/control/space/constant/epoch_parameters-007-0.yaml exists, skipping...\n",
      "File /Users/mkilbing/astro/simulations/galsim/great3/control/space/constant/epoch_parameters-008-0.yaml exists, skipping...\n",
      "File /Users/mkilbing/astro/simulations/galsim/great3/control/space/constant/epoch_parameters-009-0.yaml exists, skipping...\n",
      "Downloading https://github.com/martinkilbinger/ede18_shear_cal/blob/master/data/great3/control/space/constant/epoch_parameters-010-0.yaml?raw=true to /Users/mkilbing/astro/simulations/galsim/great3/control/space/constant/epoch_parameters-010-0.yaml...\n",
      "Downloading https://github.com/martinkilbinger/ede18_shear_cal/blob/master/data/great3/control/space/constant/epoch_parameters-011-0.yaml?raw=true to /Users/mkilbing/astro/simulations/galsim/great3/control/space/constant/epoch_parameters-011-0.yaml...\n",
      "Downloading https://github.com/martinkilbinger/ede18_shear_cal/blob/master/data/great3/control/space/constant/epoch_parameters-012-0.yaml?raw=true to /Users/mkilbing/astro/simulations/galsim/great3/control/space/constant/epoch_parameters-012-0.yaml...\n",
      "Downloading https://github.com/martinkilbinger/ede18_shear_cal/blob/master/data/great3/control/space/constant/epoch_parameters-013-0.yaml?raw=true to /Users/mkilbing/astro/simulations/galsim/great3/control/space/constant/epoch_parameters-013-0.yaml...\n",
      "Downloading https://github.com/martinkilbinger/ede18_shear_cal/blob/master/data/great3/control/space/constant/epoch_parameters-014-0.yaml?raw=true to /Users/mkilbing/astro/simulations/galsim/great3/control/space/constant/epoch_parameters-014-0.yaml...\n",
      "Downloading https://github.com/martinkilbinger/ede18_shear_cal/blob/master/data/great3/control/space/constant/epoch_parameters-015-0.yaml?raw=true to /Users/mkilbing/astro/simulations/galsim/great3/control/space/constant/epoch_parameters-015-0.yaml...\n",
      "Downloading https://github.com/martinkilbinger/ede18_shear_cal/blob/master/data/great3/control/space/constant/epoch_parameters-016-0.yaml?raw=true to /Users/mkilbing/astro/simulations/galsim/great3/control/space/constant/epoch_parameters-016-0.yaml...\n",
      "Downloading https://github.com/martinkilbinger/ede18_shear_cal/blob/master/data/great3/control/space/constant/epoch_parameters-017-0.yaml?raw=true to /Users/mkilbing/astro/simulations/galsim/great3/control/space/constant/epoch_parameters-017-0.yaml...\n",
      "Downloading https://github.com/martinkilbinger/ede18_shear_cal/blob/master/data/great3/control/space/constant/epoch_parameters-018-0.yaml?raw=true to /Users/mkilbing/astro/simulations/galsim/great3/control/space/constant/epoch_parameters-018-0.yaml...\n",
      "Downloading https://github.com/martinkilbinger/ede18_shear_cal/blob/master/data/great3/control/space/constant/epoch_parameters-019-0.yaml?raw=true to /Users/mkilbing/astro/simulations/galsim/great3/control/space/constant/epoch_parameters-019-0.yaml...\n",
      "File /Users/mkilbing/astro/simulations/galsim/great3/control/space/constant/star_catalog-000-0.fits exists, skipping...\n",
      "File /Users/mkilbing/astro/simulations/galsim/great3/control/space/constant/star_catalog-001-0.fits exists, skipping...\n",
      "File /Users/mkilbing/astro/simulations/galsim/great3/control/space/constant/star_catalog-002-0.fits exists, skipping...\n",
      "File /Users/mkilbing/astro/simulations/galsim/great3/control/space/constant/star_catalog-003-0.fits exists, skipping...\n",
      "File /Users/mkilbing/astro/simulations/galsim/great3/control/space/constant/star_catalog-004-0.fits exists, skipping...\n",
      "File /Users/mkilbing/astro/simulations/galsim/great3/control/space/constant/star_catalog-005-0.fits exists, skipping...\n",
      "File /Users/mkilbing/astro/simulations/galsim/great3/control/space/constant/star_catalog-006-0.fits exists, skipping...\n",
      "File /Users/mkilbing/astro/simulations/galsim/great3/control/space/constant/star_catalog-007-0.fits exists, skipping...\n",
      "File /Users/mkilbing/astro/simulations/galsim/great3/control/space/constant/star_catalog-008-0.fits exists, skipping...\n",
      "File /Users/mkilbing/astro/simulations/galsim/great3/control/space/constant/star_catalog-009-0.fits exists, skipping...\n",
      "Downloading https://github.com/martinkilbinger/ede18_shear_cal/blob/master/data/great3/control/space/constant/star_catalog-010-0.fits?raw=true to /Users/mkilbing/astro/simulations/galsim/great3/control/space/constant/star_catalog-010-0.fits...\n"
     ]
    },
    {
     "name": "stdout",
     "output_type": "stream",
     "text": [
      "Downloading https://github.com/martinkilbinger/ede18_shear_cal/blob/master/data/great3/control/space/constant/star_catalog-011-0.fits?raw=true to /Users/mkilbing/astro/simulations/galsim/great3/control/space/constant/star_catalog-011-0.fits...\n",
      "Downloading https://github.com/martinkilbinger/ede18_shear_cal/blob/master/data/great3/control/space/constant/star_catalog-012-0.fits?raw=true to /Users/mkilbing/astro/simulations/galsim/great3/control/space/constant/star_catalog-012-0.fits...\n",
      "Downloading https://github.com/martinkilbinger/ede18_shear_cal/blob/master/data/great3/control/space/constant/star_catalog-013-0.fits?raw=true to /Users/mkilbing/astro/simulations/galsim/great3/control/space/constant/star_catalog-013-0.fits...\n",
      "Downloading https://github.com/martinkilbinger/ede18_shear_cal/blob/master/data/great3/control/space/constant/star_catalog-014-0.fits?raw=true to /Users/mkilbing/astro/simulations/galsim/great3/control/space/constant/star_catalog-014-0.fits...\n",
      "Downloading https://github.com/martinkilbinger/ede18_shear_cal/blob/master/data/great3/control/space/constant/star_catalog-015-0.fits?raw=true to /Users/mkilbing/astro/simulations/galsim/great3/control/space/constant/star_catalog-015-0.fits...\n",
      "Downloading https://github.com/martinkilbinger/ede18_shear_cal/blob/master/data/great3/control/space/constant/star_catalog-016-0.fits?raw=true to /Users/mkilbing/astro/simulations/galsim/great3/control/space/constant/star_catalog-016-0.fits...\n",
      "Downloading https://github.com/martinkilbinger/ede18_shear_cal/blob/master/data/great3/control/space/constant/star_catalog-017-0.fits?raw=true to /Users/mkilbing/astro/simulations/galsim/great3/control/space/constant/star_catalog-017-0.fits...\n",
      "Downloading https://github.com/martinkilbinger/ede18_shear_cal/blob/master/data/great3/control/space/constant/star_catalog-018-0.fits?raw=true to /Users/mkilbing/astro/simulations/galsim/great3/control/space/constant/star_catalog-018-0.fits...\n",
      "Downloading https://github.com/martinkilbinger/ede18_shear_cal/blob/master/data/great3/control/space/constant/star_catalog-019-0.fits?raw=true to /Users/mkilbing/astro/simulations/galsim/great3/control/space/constant/star_catalog-019-0.fits...\n",
      "30 files downloaded\n"
     ]
    }
   ],
   "source": [
    "remote_dir = 'https://github.com/martinkilbinger/ede18_shear_cal/blob/master/data/great3/{}'\\\n",
    "   .format(great3_branch)\n",
    "n_downloaded = download_great3_data(galsim_input_dir, remote_dir, great3_branch, nfiles, mode='?raw=true')"
   ]
  },
  {
   "cell_type": "markdown",
   "metadata": {},
   "source": [
    "### Create images with galsim"
   ]
  },
  {
   "cell_type": "code",
   "execution_count": 47,
   "metadata": {},
   "outputs": [
    {
     "name": "stdout",
     "output_type": "stream",
     "text": [
      "*** Start create_all_sims_great3 ***\n",
      "For shear (0.0,0.02), 10 images need to be created, running galsim\n",
      "running galsim config/galsim/csc_multishear.yaml gal.shear.g1=0.0 gal.shear.g2=0.02 input.catalog.dir=/Users/mkilbing/astro/simulations/galsim/great3/control/space/constant input.dict.dir=/Users/mkilbing/astro/simulations/galsim/great3/control/space/constant output.dir=output/galsim/g1_0.0_g2_0.02 output.file_name.format=image-%03d-%1d.fits output.nfiles=20 image.nx_tiles=10 image.ny_tiles=10\n",
      "Using config file config/galsim/csc_multishear.yaml\n",
      "Using 4 processes for file processing\n",
      "Start file 2 = output/galsim/g1_0.0_g2_0.02/image-002-0.fits\n",
      "Start file 0 = output/galsim/g1_0.0_g2_0.02/image-000-0.fits\n",
      "Start file 1 = output/galsim/g1_0.0_g2_0.02/image-001-0.fits\n",
      "Start file 3 = output/galsim/g1_0.0_g2_0.02/image-003-0.fits\n",
      "Process-4: File 3 = output/galsim/g1_0.0_g2_0.02/image-003-0.fits: time = 11.426273 sec\n",
      "Start file 4 = output/galsim/g1_0.0_g2_0.02/image-004-0.fits\n",
      "Process-4: File 4 = output/galsim/g1_0.0_g2_0.02/image-004-0.fits: time = 8.100804 sec\n",
      "Start file 5 = output/galsim/g1_0.0_g2_0.02/image-005-0.fits\n",
      "Process-3: File 2 = output/galsim/g1_0.0_g2_0.02/image-002-0.fits: time = 22.393401 sec\n",
      "Start file 6 = output/galsim/g1_0.0_g2_0.02/image-006-0.fits\n",
      "Process-2: File 1 = output/galsim/g1_0.0_g2_0.02/image-001-0.fits: time = 23.848412 sec\n",
      "Start file 7 = output/galsim/g1_0.0_g2_0.02/image-007-0.fits\n",
      "Process-1: File 0 = output/galsim/g1_0.0_g2_0.02/image-000-0.fits: time = 27.001258 sec\n",
      "Start file 8 = output/galsim/g1_0.0_g2_0.02/image-008-0.fits\n",
      "Process-4: File 5 = output/galsim/g1_0.0_g2_0.02/image-005-0.fits: time = 9.074087 sec\n",
      "Start file 9 = output/galsim/g1_0.0_g2_0.02/image-009-0.fits\n",
      "Process-2: File 7 = output/galsim/g1_0.0_g2_0.02/image-007-0.fits: time = 10.179362 sec\n",
      "Process-1: File 8 = output/galsim/g1_0.0_g2_0.02/image-008-0.fits: time = 7.757173 sec\n",
      "Start file 10 = output/galsim/g1_0.0_g2_0.02/image-010-0.fits\n",
      "Start file 11 = output/galsim/g1_0.0_g2_0.02/image-011-0.fits\n",
      "Process-3: File 6 = output/galsim/g1_0.0_g2_0.02/image-006-0.fits: time = 23.417619 sec\n",
      "Start file 12 = output/galsim/g1_0.0_g2_0.02/image-012-0.fits\n",
      "Process-4: File 9 = output/galsim/g1_0.0_g2_0.02/image-009-0.fits: time = 18.612404 sec\n",
      "Start file 13 = output/galsim/g1_0.0_g2_0.02/image-013-0.fits\n",
      "Process-1: File 11 = output/galsim/g1_0.0_g2_0.02/image-011-0.fits: time = 13.567698 sec\n",
      "Start file 14 = output/galsim/g1_0.0_g2_0.02/image-014-0.fits\n",
      "Process-2: File 10 = output/galsim/g1_0.0_g2_0.02/image-010-0.fits: time = 15.488408 sec\n",
      "Start file 15 = output/galsim/g1_0.0_g2_0.02/image-015-0.fits\n",
      "Process-3: File 12 = output/galsim/g1_0.0_g2_0.02/image-012-0.fits: time = 13.073474 sec\n",
      "Process-2: File 15 = output/galsim/g1_0.0_g2_0.02/image-015-0.fits: time = 9.710670 sec\n",
      "Start file 16 = output/galsim/g1_0.0_g2_0.02/image-016-0.fits\n",
      "Start file 17 = output/galsim/g1_0.0_g2_0.02/image-017-0.fits\n",
      "Process-4: File 13 = output/galsim/g1_0.0_g2_0.02/image-013-0.fits: time = 13.568640 sec\n",
      "Start file 18 = output/galsim/g1_0.0_g2_0.02/image-018-0.fits\n",
      "Process-4: File 18 = output/galsim/g1_0.0_g2_0.02/image-018-0.fits: time = 10.542304 sec\n",
      "Start file 19 = output/galsim/g1_0.0_g2_0.02/image-019-0.fits\n",
      "Process-3: File 16 = output/galsim/g1_0.0_g2_0.02/image-016-0.fits: time = 13.663731 sec\n",
      "Process-1: File 14 = output/galsim/g1_0.0_g2_0.02/image-014-0.fits: time = 31.164697 sec\n",
      "Process-2: File 17 = output/galsim/g1_0.0_g2_0.02/image-017-0.fits: time = 22.269670 sec\n",
      "Process-4: File 19 = output/galsim/g1_0.0_g2_0.02/image-019-0.fits: time = 14.216402 sec\n",
      "Total time for 20 files with 4 processes = 87.052735 sec\n",
      "Done building files\n",
      "For shear (0.0,-0.02), 10 images need to be created, running galsim\n",
      "running galsim config/galsim/csc_multishear.yaml gal.shear.g1=0.0 gal.shear.g2=-0.02 input.catalog.dir=/Users/mkilbing/astro/simulations/galsim/great3/control/space/constant input.dict.dir=/Users/mkilbing/astro/simulations/galsim/great3/control/space/constant output.dir=output/galsim/g1_0.0_g2_-0.02 output.file_name.format=image-%03d-%1d.fits output.nfiles=20 image.nx_tiles=10 image.ny_tiles=10\n",
      "Using config file config/galsim/csc_multishear.yaml\n",
      "Using 4 processes for file processing\n",
      "Start file 3 = output/galsim/g1_0.0_g2_-0.02/image-003-0.fits\n",
      "Start file 1 = output/galsim/g1_0.0_g2_-0.02/image-001-0.fits\n",
      "Start file 2 = output/galsim/g1_0.0_g2_-0.02/image-002-0.fits\n",
      "Start file 0 = output/galsim/g1_0.0_g2_-0.02/image-000-0.fits\n",
      "Process-4: File 3 = output/galsim/g1_0.0_g2_-0.02/image-003-0.fits: time = 8.351414 sec\n",
      "Start file 4 = output/galsim/g1_0.0_g2_-0.02/image-004-0.fits\n",
      "Process-4: File 4 = output/galsim/g1_0.0_g2_-0.02/image-004-0.fits: time = 6.946144 sec\n",
      "Start file 5 = output/galsim/g1_0.0_g2_-0.02/image-005-0.fits\n",
      "Process-3: File 2 = output/galsim/g1_0.0_g2_-0.02/image-002-0.fits: time = 18.017679 sec\n",
      "Start file 6 = output/galsim/g1_0.0_g2_-0.02/image-006-0.fits\n",
      "Process-2: File 1 = output/galsim/g1_0.0_g2_-0.02/image-001-0.fits: time = 19.188209 sec\n",
      "Start file 7 = output/galsim/g1_0.0_g2_-0.02/image-007-0.fits\n",
      "Process-1: File 0 = output/galsim/g1_0.0_g2_-0.02/image-000-0.fits: time = 22.071997 sec\n",
      "Start file 8 = output/galsim/g1_0.0_g2_-0.02/image-008-0.fits\n",
      "Process-4: File 5 = output/galsim/g1_0.0_g2_-0.02/image-005-0.fits: time = 7.801001 sec\n",
      "Start file 9 = output/galsim/g1_0.0_g2_-0.02/image-009-0.fits\n",
      "Process-2: File 7 = output/galsim/g1_0.0_g2_-0.02/image-007-0.fits: time = 8.411853 sec\n",
      "Start file 10 = output/galsim/g1_0.0_g2_-0.02/image-010-0.fits\n",
      "Process-1: File 8 = output/galsim/g1_0.0_g2_-0.02/image-008-0.fits: time = 6.699866 sec\n",
      "Start file 11 = output/galsim/g1_0.0_g2_-0.02/image-011-0.fits\n",
      "Process-3: File 6 = output/galsim/g1_0.0_g2_-0.02/image-006-0.fits: time = 19.496535 sec\n",
      "Start file 12 = output/galsim/g1_0.0_g2_-0.02/image-012-0.fits\n",
      "Process-4: File 9 = output/galsim/g1_0.0_g2_-0.02/image-009-0.fits: time = 14.819065 sec\n",
      "Start file 13 = output/galsim/g1_0.0_g2_-0.02/image-013-0.fits\n",
      "Process-1: File 11 = output/galsim/g1_0.0_g2_-0.02/image-011-0.fits: time = 10.698399 sec\n",
      "Process-2: File 10 = output/galsim/g1_0.0_g2_-0.02/image-010-0.fits: time = 11.906192 sec\n",
      "Start file 14 = output/galsim/g1_0.0_g2_-0.02/image-014-0.fits\n",
      "Start file 15 = output/galsim/g1_0.0_g2_-0.02/image-015-0.fits\n",
      "Process-2: File 15 = output/galsim/g1_0.0_g2_-0.02/image-015-0.fits: time = 8.463000 sec\n",
      "Start file 16 = output/galsim/g1_0.0_g2_-0.02/image-016-0.fits\n",
      "Process-3: File 12 = output/galsim/g1_0.0_g2_-0.02/image-012-0.fits: time = 11.563651 sec\n",
      "Start file 17 = output/galsim/g1_0.0_g2_-0.02/image-017-0.fits\n",
      "Process-4: File 13 = output/galsim/g1_0.0_g2_-0.02/image-013-0.fits: time = 12.164023 sec\n",
      "Start file 18 = output/galsim/g1_0.0_g2_-0.02/image-018-0.fits\n",
      "Process-4: File 18 = output/galsim/g1_0.0_g2_-0.02/image-018-0.fits: time = 8.592831 sec\n",
      "Start file 19 = output/galsim/g1_0.0_g2_-0.02/image-019-0.fits\n",
      "Process-3: File 17 = output/galsim/g1_0.0_g2_-0.02/image-017-0.fits: time = 12.129478 sec\n",
      "Process-1: File 14 = output/galsim/g1_0.0_g2_-0.02/image-014-0.fits: time = 25.309321 sec\n",
      "Process-2: File 16 = output/galsim/g1_0.0_g2_-0.02/image-016-0.fits: time = 17.353451 sec\n",
      "Process-4: File 19 = output/galsim/g1_0.0_g2_-0.02/image-019-0.fits: time = 11.863117 sec\n",
      "Total time for 20 files with 4 processes = 72.025259 sec\n",
      "Done building files\n",
      "For shear (0.02,0.0), 10 images need to be created, running galsim\n",
      "running galsim config/galsim/csc_multishear.yaml gal.shear.g1=0.02 gal.shear.g2=0.0 input.catalog.dir=/Users/mkilbing/astro/simulations/galsim/great3/control/space/constant input.dict.dir=/Users/mkilbing/astro/simulations/galsim/great3/control/space/constant output.dir=output/galsim/g1_0.02_g2_0.0 output.file_name.format=image-%03d-%1d.fits output.nfiles=20 image.nx_tiles=10 image.ny_tiles=10\n",
      "Using config file config/galsim/csc_multishear.yaml\n",
      "Using 4 processes for file processing\n",
      "Start file 2 = output/galsim/g1_0.02_g2_0.0/image-002-0.fits\n",
      "Start file 0 = output/galsim/g1_0.02_g2_0.0/image-000-0.fits\n",
      "Start file 1 = output/galsim/g1_0.02_g2_0.0/image-001-0.fits\n",
      "Start file 3 = output/galsim/g1_0.02_g2_0.0/image-003-0.fits\n",
      "Process-4: File 3 = output/galsim/g1_0.02_g2_0.0/image-003-0.fits: time = 8.365532 sec\n"
     ]
    },
    {
     "name": "stdout",
     "output_type": "stream",
     "text": [
      "Start file 4 = output/galsim/g1_0.02_g2_0.0/image-004-0.fits\n",
      "Process-4: File 4 = output/galsim/g1_0.02_g2_0.0/image-004-0.fits: time = 7.880061 sec\n",
      "Start file 5 = output/galsim/g1_0.02_g2_0.0/image-005-0.fits\n",
      "Process-3: File 2 = output/galsim/g1_0.02_g2_0.0/image-002-0.fits: time = 19.153281 sec\n",
      "Start file 6 = output/galsim/g1_0.02_g2_0.0/image-006-0.fits\n",
      "Process-2: File 1 = output/galsim/g1_0.02_g2_0.0/image-001-0.fits: time = 20.500648 sec\n",
      "Start file 7 = output/galsim/g1_0.02_g2_0.0/image-007-0.fits\n",
      "Process-1: File 0 = output/galsim/g1_0.02_g2_0.0/image-000-0.fits: time = 23.242459 sec\n",
      "Start file 8 = output/galsim/g1_0.02_g2_0.0/image-008-0.fits\n",
      "Process-4: File 5 = output/galsim/g1_0.02_g2_0.0/image-005-0.fits: time = 8.046185 sec\n",
      "Start file 9 = output/galsim/g1_0.02_g2_0.0/image-009-0.fits\n",
      "Process-2: File 7 = output/galsim/g1_0.02_g2_0.0/image-007-0.fits: time = 8.464494 sec\n",
      "Start file 10 = output/galsim/g1_0.02_g2_0.0/image-010-0.fits\n",
      "Process-1: File 8 = output/galsim/g1_0.02_g2_0.0/image-008-0.fits: time = 6.600147 sec\n",
      "Start file 11 = output/galsim/g1_0.02_g2_0.0/image-011-0.fits\n",
      "Process-3: File 6 = output/galsim/g1_0.02_g2_0.0/image-006-0.fits: time = 18.997359 sec\n",
      "Process-4: File 9 = output/galsim/g1_0.02_g2_0.0/image-009-0.fits: time = 14.186768 sec\n",
      "Start file 12 = output/galsim/g1_0.02_g2_0.0/image-012-0.fits\n",
      "Start file 13 = output/galsim/g1_0.02_g2_0.0/image-013-0.fits\n",
      "Process-1: File 11 = output/galsim/g1_0.02_g2_0.0/image-011-0.fits: time = 9.996664 sec\n",
      "Start file 14 = output/galsim/g1_0.02_g2_0.0/image-014-0.fits\n",
      "Process-2: File 10 = output/galsim/g1_0.02_g2_0.0/image-010-0.fits: time = 11.244978 sec\n",
      "Start file 15 = output/galsim/g1_0.02_g2_0.0/image-015-0.fits\n",
      "Process-2: File 15 = output/galsim/g1_0.02_g2_0.0/image-015-0.fits: time = 7.432480 sec\n",
      "Start file 16 = output/galsim/g1_0.02_g2_0.0/image-016-0.fits\n",
      "Process-3: File 12 = output/galsim/g1_0.02_g2_0.0/image-012-0.fits: time = 10.806232 sec\n",
      "Start file 17 = output/galsim/g1_0.02_g2_0.0/image-017-0.fits\n",
      "Process-4: File 13 = output/galsim/g1_0.02_g2_0.0/image-013-0.fits: time = 11.141762 sec\n",
      "Start file 18 = output/galsim/g1_0.02_g2_0.0/image-018-0.fits\n",
      "Process-4: File 18 = output/galsim/g1_0.02_g2_0.0/image-018-0.fits: time = 6.867844 sec\n",
      "Start file 19 = output/galsim/g1_0.02_g2_0.0/image-019-0.fits\n",
      "Process-3: File 17 = output/galsim/g1_0.02_g2_0.0/image-017-0.fits: time = 9.900062 sec\n",
      "Process-1: File 14 = output/galsim/g1_0.02_g2_0.0/image-014-0.fits: time = 22.302591 sec\n",
      "Process-2: File 16 = output/galsim/g1_0.02_g2_0.0/image-016-0.fits: time = 15.161767 sec\n",
      "Process-4: File 19 = output/galsim/g1_0.02_g2_0.0/image-019-0.fits: time = 11.103622 sec\n",
      "Total time for 20 files with 4 processes = 69.071297 sec\n",
      "Done building files\n",
      "For shear (0.0,0.0), 10 images need to be created, running galsim\n",
      "running galsim config/galsim/csc_multishear.yaml gal.shear.g1=0.0 gal.shear.g2=0.0 input.catalog.dir=/Users/mkilbing/astro/simulations/galsim/great3/control/space/constant input.dict.dir=/Users/mkilbing/astro/simulations/galsim/great3/control/space/constant output.dir=output/galsim/g1_0.0_g2_0.0 output.file_name.format=image-%03d-%1d.fits output.nfiles=20 image.nx_tiles=10 image.ny_tiles=10\n",
      "Using config file config/galsim/csc_multishear.yaml\n",
      "Using 4 processes for file processing\n",
      "Start file 2 = output/galsim/g1_0.0_g2_0.0/image-002-0.fits\n",
      "Start file 0 = output/galsim/g1_0.0_g2_0.0/image-000-0.fits\n",
      "Start file 3 = output/galsim/g1_0.0_g2_0.0/image-003-0.fits\n",
      "Start file 1 = output/galsim/g1_0.0_g2_0.0/image-001-0.fits\n",
      "Process-4: File 3 = output/galsim/g1_0.0_g2_0.0/image-003-0.fits: time = 7.716403 sec\n",
      "Start file 4 = output/galsim/g1_0.0_g2_0.0/image-004-0.fits\n",
      "Process-4: File 4 = output/galsim/g1_0.0_g2_0.0/image-004-0.fits: time = 7.436203 sec\n",
      "Start file 5 = output/galsim/g1_0.0_g2_0.0/image-005-0.fits\n",
      "Process-3: File 2 = output/galsim/g1_0.0_g2_0.0/image-002-0.fits: time = 16.843584 sec\n",
      "Start file 6 = output/galsim/g1_0.0_g2_0.0/image-006-0.fits\n",
      "Process-2: File 1 = output/galsim/g1_0.0_g2_0.0/image-001-0.fits: time = 18.218542 sec\n",
      "Start file 7 = output/galsim/g1_0.0_g2_0.0/image-007-0.fits\n",
      "Process-1: File 0 = output/galsim/g1_0.0_g2_0.0/image-000-0.fits: time = 21.248352 sec\n",
      "Start file 8 = output/galsim/g1_0.0_g2_0.0/image-008-0.fits\n",
      "Process-4: File 5 = output/galsim/g1_0.0_g2_0.0/image-005-0.fits: time = 7.455374 sec\n",
      "Start file 9 = output/galsim/g1_0.0_g2_0.0/image-009-0.fits\n",
      "Process-2: File 7 = output/galsim/g1_0.0_g2_0.0/image-007-0.fits: time = 8.440641 sec\n",
      "Start file 10 = output/galsim/g1_0.0_g2_0.0/image-010-0.fits\n",
      "Process-1: File 8 = output/galsim/g1_0.0_g2_0.0/image-008-0.fits: time = 6.868297 sec\n",
      "Start file 11 = output/galsim/g1_0.0_g2_0.0/image-011-0.fits\n",
      "Process-3: File 6 = output/galsim/g1_0.0_g2_0.0/image-006-0.fits: time = 19.737085 sec\n",
      "Start file 12 = output/galsim/g1_0.0_g2_0.0/image-012-0.fits\n",
      "Process-4: File 9 = output/galsim/g1_0.0_g2_0.0/image-009-0.fits: time = 15.234707 sec\n",
      "Start file 13 = output/galsim/g1_0.0_g2_0.0/image-013-0.fits\n",
      "Process-2: File 10 = output/galsim/g1_0.0_g2_0.0/image-010-0.fits: time = 11.938624 sec\n",
      "Process-1: File 11 = output/galsim/g1_0.0_g2_0.0/image-011-0.fits: time = 10.569325 sec\n",
      "Start file 14 = output/galsim/g1_0.0_g2_0.0/image-014-0.fits\n",
      "Start file 15 = output/galsim/g1_0.0_g2_0.0/image-015-0.fits\n",
      "Process-1: File 15 = output/galsim/g1_0.0_g2_0.0/image-015-0.fits: time = 7.934988 sec\n",
      "Start file 16 = output/galsim/g1_0.0_g2_0.0/image-016-0.fits\n",
      "Process-3: File 12 = output/galsim/g1_0.0_g2_0.0/image-012-0.fits: time = 10.646116 sec\n",
      "Start file 17 = output/galsim/g1_0.0_g2_0.0/image-017-0.fits\n",
      "Process-4: File 13 = output/galsim/g1_0.0_g2_0.0/image-013-0.fits: time = 10.916037 sec\n",
      "Start file 18 = output/galsim/g1_0.0_g2_0.0/image-018-0.fits\n",
      "Process-4: File 18 = output/galsim/g1_0.0_g2_0.0/image-018-0.fits: time = 7.323946 sec\n",
      "Start file 19 = output/galsim/g1_0.0_g2_0.0/image-019-0.fits\n",
      "Process-3: File 17 = output/galsim/g1_0.0_g2_0.0/image-017-0.fits: time = 10.569345 sec\n",
      "Process-2: File 14 = output/galsim/g1_0.0_g2_0.0/image-014-0.fits: time = 23.076578 sec\n",
      "Process-1: File 16 = output/galsim/g1_0.0_g2_0.0/image-016-0.fits: time = 15.514163 sec\n",
      "Process-4: File 19 = output/galsim/g1_0.0_g2_0.0/image-019-0.fits: time = 11.168605 sec\n",
      "Total time for 20 files with 4 processes = 68.788421 sec\n",
      "Done building files\n",
      "For shear (-0.02,0.0), 10 images need to be created, running galsim\n",
      "running galsim config/galsim/csc_multishear.yaml gal.shear.g1=-0.02 gal.shear.g2=0.0 input.catalog.dir=/Users/mkilbing/astro/simulations/galsim/great3/control/space/constant input.dict.dir=/Users/mkilbing/astro/simulations/galsim/great3/control/space/constant output.dir=output/galsim/g1_-0.02_g2_0.0 output.file_name.format=image-%03d-%1d.fits output.nfiles=20 image.nx_tiles=10 image.ny_tiles=10\n",
      "Using config file config/galsim/csc_multishear.yaml\n",
      "Using 4 processes for file processing\n",
      "Start file 3 = output/galsim/g1_-0.02_g2_0.0/image-003-0.fits\n",
      "Start file 2 = output/galsim/g1_-0.02_g2_0.0/image-002-0.fits\n",
      "Start file 1 = output/galsim/g1_-0.02_g2_0.0/image-001-0.fits\n",
      "Start file 0 = output/galsim/g1_-0.02_g2_0.0/image-000-0.fits\n",
      "Process-4: File 3 = output/galsim/g1_-0.02_g2_0.0/image-003-0.fits: time = 10.167358 sec\n",
      "Start file 4 = output/galsim/g1_-0.02_g2_0.0/image-004-0.fits\n",
      "Process-4: File 4 = output/galsim/g1_-0.02_g2_0.0/image-004-0.fits: time = 7.761820 sec\n",
      "Start file 5 = output/galsim/g1_-0.02_g2_0.0/image-005-0.fits\n",
      "Process-3: File 2 = output/galsim/g1_-0.02_g2_0.0/image-002-0.fits: time = 20.618496 sec\n",
      "Start file 6 = output/galsim/g1_-0.02_g2_0.0/image-006-0.fits\n",
      "Process-2: File 1 = output/galsim/g1_-0.02_g2_0.0/image-001-0.fits: time = 21.953667 sec\n",
      "Start file 7 = output/galsim/g1_-0.02_g2_0.0/image-007-0.fits\n",
      "Process-1: File 0 = output/galsim/g1_-0.02_g2_0.0/image-000-0.fits: time = 24.900693 sec\n",
      "Start file 8 = output/galsim/g1_-0.02_g2_0.0/image-008-0.fits\n",
      "Process-4: File 5 = output/galsim/g1_-0.02_g2_0.0/image-005-0.fits: time = 8.079011 sec\n",
      "Start file 9 = output/galsim/g1_-0.02_g2_0.0/image-009-0.fits\n",
      "Process-2: File 7 = output/galsim/g1_-0.02_g2_0.0/image-007-0.fits: time = 7.853760 sec\n",
      "Start file 10 = output/galsim/g1_-0.02_g2_0.0/image-010-0.fits\n",
      "Process-1: File 8 = output/galsim/g1_-0.02_g2_0.0/image-008-0.fits: time = 6.110047 sec\n"
     ]
    },
    {
     "name": "stdout",
     "output_type": "stream",
     "text": [
      "Start file 11 = output/galsim/g1_-0.02_g2_0.0/image-011-0.fits\n",
      "Process-3: File 6 = output/galsim/g1_-0.02_g2_0.0/image-006-0.fits: time = 18.543962 sec\n",
      "Start file 12 = output/galsim/g1_-0.02_g2_0.0/image-012-0.fits\n",
      "Process-4: File 9 = output/galsim/g1_-0.02_g2_0.0/image-009-0.fits: time = 13.818268 sec\n",
      "Start file 13 = output/galsim/g1_-0.02_g2_0.0/image-013-0.fits\n",
      "Process-1: File 11 = output/galsim/g1_-0.02_g2_0.0/image-011-0.fits: time = 9.803249 sec\n",
      "Process-2: File 10 = output/galsim/g1_-0.02_g2_0.0/image-010-0.fits: time = 11.028493 sec\n",
      "Start file 14 = output/galsim/g1_-0.02_g2_0.0/image-014-0.fits\n",
      "Start file 15 = output/galsim/g1_-0.02_g2_0.0/image-015-0.fits\n",
      "Process-2: File 15 = output/galsim/g1_-0.02_g2_0.0/image-015-0.fits: time = 7.662851 sec\n",
      "Start file 16 = output/galsim/g1_-0.02_g2_0.0/image-016-0.fits\n",
      "Process-3: File 12 = output/galsim/g1_-0.02_g2_0.0/image-012-0.fits: time = 10.285114 sec\n",
      "Start file 17 = output/galsim/g1_-0.02_g2_0.0/image-017-0.fits\n",
      "Process-4: File 13 = output/galsim/g1_-0.02_g2_0.0/image-013-0.fits: time = 10.520997 sec\n",
      "Start file 18 = output/galsim/g1_-0.02_g2_0.0/image-018-0.fits\n",
      "Process-4: File 18 = output/galsim/g1_-0.02_g2_0.0/image-018-0.fits: time = 7.081941 sec\n",
      "Start file 19 = output/galsim/g1_-0.02_g2_0.0/image-019-0.fits\n",
      "Process-3: File 17 = output/galsim/g1_-0.02_g2_0.0/image-017-0.fits: time = 9.989059 sec\n",
      "Process-1: File 14 = output/galsim/g1_-0.02_g2_0.0/image-014-0.fits: time = 22.109434 sec\n",
      "Process-2: File 16 = output/galsim/g1_-0.02_g2_0.0/image-016-0.fits: time = 14.899386 sec\n",
      "Process-4: File 19 = output/galsim/g1_-0.02_g2_0.0/image-019-0.fits: time = 10.853824 sec\n",
      "Total time for 20 files with 4 processes = 69.820543 sec\n",
      "Done building files\n",
      "10 PSF images need to be created, running galsim\n",
      "running galsim config/galsim/csc_psf.yaml input.catalog.dir=/Users/mkilbing/astro/simulations/galsim/great3/control/space/constant input.dict.dir=/Users/mkilbing/astro/simulations/galsim/great3/control/space/constant output.dir=output/galsim/psf output.file_name.format=starfield_image-%03d-%1d.fits output.nfiles=20\n",
      "Using config file config/galsim/csc_psf.yaml\n",
      "Using 4 processes for file processing\n",
      "Start file 0 = output/galsim/psf/starfield_image-000-0.fits\n",
      "Start file 1 = output/galsim/psf/starfield_image-001-0.fits\n",
      "Start file 3 = output/galsim/psf/starfield_image-003-0.fits\n",
      "Start file 2 = output/galsim/psf/starfield_image-002-0.fits\n",
      "Process-1: File 0 = output/galsim/psf/starfield_image-000-0.fits: time = 1.182773 sec\n",
      "Process-4: File 3 = output/galsim/psf/starfield_image-003-0.fits: time = 1.181085 sec\n",
      "Process-2: File 1 = output/galsim/psf/starfield_image-001-0.fits: time = 1.185409 sec\n",
      "Process-3: File 2 = output/galsim/psf/starfield_image-002-0.fits: time = 1.185144 sec\n",
      "Start file 4 = output/galsim/psf/starfield_image-004-0.fits\n",
      "Start file 7 = output/galsim/psf/starfield_image-007-0.fits\n",
      "Start file 6 = output/galsim/psf/starfield_image-006-0.fits\n",
      "Start file 5 = output/galsim/psf/starfield_image-005-0.fits\n",
      "Process-1: File 4 = output/galsim/psf/starfield_image-004-0.fits: time = 0.399252 sec\n",
      "Process-3: File 7 = output/galsim/psf/starfield_image-007-0.fits: time = 0.411865 sec\n",
      "Process-4: File 5 = output/galsim/psf/starfield_image-005-0.fits: time = 0.509017 sec\n",
      "Process-2: File 6 = output/galsim/psf/starfield_image-006-0.fits: time = 0.509217 sec\n",
      "Start file 8 = output/galsim/psf/starfield_image-008-0.fits\n",
      "Start file 9 = output/galsim/psf/starfield_image-009-0.fits\n",
      "Process-1: File 8 = output/galsim/psf/starfield_image-008-0.fits: time = 0.318071 sec\n",
      "Start file 11 = output/galsim/psf/starfield_image-011-0.fits\n",
      "Start file 10 = output/galsim/psf/starfield_image-010-0.fits\n",
      "Process-3: File 9 = output/galsim/psf/starfield_image-009-0.fits: time = 0.459816 sec\n",
      "Process-2: File 11 = output/galsim/psf/starfield_image-011-0.fits: time = 0.364590 sec\n",
      "Process-4: File 10 = output/galsim/psf/starfield_image-010-0.fits: time = 0.367308 sec\n",
      "Start file 12 = output/galsim/psf/starfield_image-012-0.fits\n",
      "Process-1: File 12 = output/galsim/psf/starfield_image-012-0.fits: time = 0.357742 sec\n",
      "Start file 15 = output/galsim/psf/starfield_image-015-0.fits\n",
      "Start file 13 = output/galsim/psf/starfield_image-013-0.fits\n",
      "Start file 14 = output/galsim/psf/starfield_image-014-0.fits\n",
      "Process-4: File 15 = output/galsim/psf/starfield_image-015-0.fits: time = 0.389769 sec\n",
      "Process-3: File 13 = output/galsim/psf/starfield_image-013-0.fits: time = 0.414730 sec\n",
      "Process-2: File 14 = output/galsim/psf/starfield_image-014-0.fits: time = 0.415803 sec\n",
      "Start file 16 = output/galsim/psf/starfield_image-016-0.fits\n",
      "Process-1: File 16 = output/galsim/psf/starfield_image-016-0.fits: time = 0.371961 sec\n",
      "Start file 18 = output/galsim/psf/starfield_image-018-0.fits\n",
      "Start file 17 = output/galsim/psf/starfield_image-017-0.fits\n",
      "Start file 19 = output/galsim/psf/starfield_image-019-0.fits\n",
      "Process-4: File 17 = output/galsim/psf/starfield_image-017-0.fits: time = 0.436005 sec\n",
      "Process-3: File 18 = output/galsim/psf/starfield_image-018-0.fits: time = 0.414827 sec\n",
      "Process-2: File 19 = output/galsim/psf/starfield_image-019-0.fits: time = 0.422530 sec\n",
      "Total time for 20 files with 4 processes = 4.314252 sec\n",
      "Done building files\n",
      "*** End create_all_sims_great3 ***\n"
     ]
    }
   ],
   "source": [
    "# Set paths\n",
    "galsim_config_path     = '{}/{}'.format(galsim_config_dir, galsim_config_fname)\n",
    "galsim_config_psf_path = '{}/{}'.format(galsim_config_dir, galsim_config_psf_fname)\n",
    "\n",
    "# Call galsim\n",
    "create_all_sims_great3(g_values, galsim_config_path, galsim_config_psf_path, \\\n",
    "        galsim_input_dir, galsim_output_base_dir, galsim_output_gal_fname_format, \\\n",
    "        galsim_output_psf_fname_format, nxy_tiles=nxy_tiles, nfiles=nfiles, job=job)"
   ]
  },
  {
   "cell_type": "markdown",
   "metadata": {},
   "source": [
    "### Measure shapes with KSB (shapelens)"
   ]
  },
  {
   "cell_type": "code",
   "execution_count": 48,
   "metadata": {},
   "outputs": [
    {
     "name": "stdout",
     "output_type": "stream",
     "text": [
      "*** Start all_shapes_shapelens ***\n",
      "keeping existing file output/shapelens/g1_0.0_g2_0.02/result-000.txt, not running get_shapes -T -g 10 -p output/galsim/psf/starfield_image-000-0.fits output/galsim/g1_0.0_g2_0.02/image-000-0.fits > output/shapelens/g1_0.0_g2_0.02/result-000.txt\n",
      "keeping existing file output/shapelens/g1_0.0_g2_-0.02/result-000.txt, not running get_shapes -T -g 10 -p output/galsim/psf/starfield_image-000-0.fits output/galsim/g1_0.0_g2_-0.02/image-000-0.fits > output/shapelens/g1_0.0_g2_-0.02/result-000.txt\n",
      "keeping existing file output/shapelens/g1_0.02_g2_0.0/result-000.txt, not running get_shapes -T -g 10 -p output/galsim/psf/starfield_image-000-0.fits output/galsim/g1_0.02_g2_0.0/image-000-0.fits > output/shapelens/g1_0.02_g2_0.0/result-000.txt\n",
      "keeping existing file output/shapelens/g1_0.0_g2_0.0/result-000.txt, not running get_shapes -T -g 10 -p output/galsim/psf/starfield_image-000-0.fits output/galsim/g1_0.0_g2_0.0/image-000-0.fits > output/shapelens/g1_0.0_g2_0.0/result-000.txt\n",
      "keeping existing file output/shapelens/g1_-0.02_g2_0.0/result-000.txt, not running get_shapes -T -g 10 -p output/galsim/psf/starfield_image-000-0.fits output/galsim/g1_-0.02_g2_0.0/image-000-0.fits > output/shapelens/g1_-0.02_g2_0.0/result-000.txt\n",
      "keeping existing file output/shapelens/g1_0.0_g2_0.02/result-001.txt, not running get_shapes -T -g 10 -p output/galsim/psf/starfield_image-001-0.fits output/galsim/g1_0.0_g2_0.02/image-001-0.fits > output/shapelens/g1_0.0_g2_0.02/result-001.txt\n",
      "keeping existing file output/shapelens/g1_0.0_g2_-0.02/result-001.txt, not running get_shapes -T -g 10 -p output/galsim/psf/starfield_image-001-0.fits output/galsim/g1_0.0_g2_-0.02/image-001-0.fits > output/shapelens/g1_0.0_g2_-0.02/result-001.txt\n",
      "keeping existing file output/shapelens/g1_0.02_g2_0.0/result-001.txt, not running get_shapes -T -g 10 -p output/galsim/psf/starfield_image-001-0.fits output/galsim/g1_0.02_g2_0.0/image-001-0.fits > output/shapelens/g1_0.02_g2_0.0/result-001.txt\n",
      "keeping existing file output/shapelens/g1_0.0_g2_0.0/result-001.txt, not running get_shapes -T -g 10 -p output/galsim/psf/starfield_image-001-0.fits output/galsim/g1_0.0_g2_0.0/image-001-0.fits > output/shapelens/g1_0.0_g2_0.0/result-001.txt\n",
      "keeping existing file output/shapelens/g1_-0.02_g2_0.0/result-001.txt, not running get_shapes -T -g 10 -p output/galsim/psf/starfield_image-001-0.fits output/galsim/g1_-0.02_g2_0.0/image-001-0.fits > output/shapelens/g1_-0.02_g2_0.0/result-001.txt\n",
      "keeping existing file output/shapelens/g1_0.0_g2_0.02/result-002.txt, not running get_shapes -T -g 10 -p output/galsim/psf/starfield_image-002-0.fits output/galsim/g1_0.0_g2_0.02/image-002-0.fits > output/shapelens/g1_0.0_g2_0.02/result-002.txt\n",
      "keeping existing file output/shapelens/g1_0.0_g2_-0.02/result-002.txt, not running get_shapes -T -g 10 -p output/galsim/psf/starfield_image-002-0.fits output/galsim/g1_0.0_g2_-0.02/image-002-0.fits > output/shapelens/g1_0.0_g2_-0.02/result-002.txt\n",
      "keeping existing file output/shapelens/g1_0.02_g2_0.0/result-002.txt, not running get_shapes -T -g 10 -p output/galsim/psf/starfield_image-002-0.fits output/galsim/g1_0.02_g2_0.0/image-002-0.fits > output/shapelens/g1_0.02_g2_0.0/result-002.txt\n",
      "keeping existing file output/shapelens/g1_0.0_g2_0.0/result-002.txt, not running get_shapes -T -g 10 -p output/galsim/psf/starfield_image-002-0.fits output/galsim/g1_0.0_g2_0.0/image-002-0.fits > output/shapelens/g1_0.0_g2_0.0/result-002.txt\n",
      "keeping existing file output/shapelens/g1_-0.02_g2_0.0/result-002.txt, not running get_shapes -T -g 10 -p output/galsim/psf/starfield_image-002-0.fits output/galsim/g1_-0.02_g2_0.0/image-002-0.fits > output/shapelens/g1_-0.02_g2_0.0/result-002.txt\n",
      "keeping existing file output/shapelens/g1_0.0_g2_0.02/result-003.txt, not running get_shapes -T -g 10 -p output/galsim/psf/starfield_image-003-0.fits output/galsim/g1_0.0_g2_0.02/image-003-0.fits > output/shapelens/g1_0.0_g2_0.02/result-003.txt\n",
      "keeping existing file output/shapelens/g1_0.0_g2_-0.02/result-003.txt, not running get_shapes -T -g 10 -p output/galsim/psf/starfield_image-003-0.fits output/galsim/g1_0.0_g2_-0.02/image-003-0.fits > output/shapelens/g1_0.0_g2_-0.02/result-003.txt\n",
      "keeping existing file output/shapelens/g1_0.02_g2_0.0/result-003.txt, not running get_shapes -T -g 10 -p output/galsim/psf/starfield_image-003-0.fits output/galsim/g1_0.02_g2_0.0/image-003-0.fits > output/shapelens/g1_0.02_g2_0.0/result-003.txt\n",
      "keeping existing file output/shapelens/g1_0.0_g2_0.0/result-003.txt, not running get_shapes -T -g 10 -p output/galsim/psf/starfield_image-003-0.fits output/galsim/g1_0.0_g2_0.0/image-003-0.fits > output/shapelens/g1_0.0_g2_0.0/result-003.txt\n",
      "keeping existing file output/shapelens/g1_-0.02_g2_0.0/result-003.txt, not running get_shapes -T -g 10 -p output/galsim/psf/starfield_image-003-0.fits output/galsim/g1_-0.02_g2_0.0/image-003-0.fits > output/shapelens/g1_-0.02_g2_0.0/result-003.txt\n",
      "keeping existing file output/shapelens/g1_0.0_g2_0.02/result-004.txt, not running get_shapes -T -g 10 -p output/galsim/psf/starfield_image-004-0.fits output/galsim/g1_0.0_g2_0.02/image-004-0.fits > output/shapelens/g1_0.0_g2_0.02/result-004.txt\n",
      "keeping existing file output/shapelens/g1_0.0_g2_-0.02/result-004.txt, not running get_shapes -T -g 10 -p output/galsim/psf/starfield_image-004-0.fits output/galsim/g1_0.0_g2_-0.02/image-004-0.fits > output/shapelens/g1_0.0_g2_-0.02/result-004.txt\n",
      "keeping existing file output/shapelens/g1_0.02_g2_0.0/result-004.txt, not running get_shapes -T -g 10 -p output/galsim/psf/starfield_image-004-0.fits output/galsim/g1_0.02_g2_0.0/image-004-0.fits > output/shapelens/g1_0.02_g2_0.0/result-004.txt\n",
      "keeping existing file output/shapelens/g1_0.0_g2_0.0/result-004.txt, not running get_shapes -T -g 10 -p output/galsim/psf/starfield_image-004-0.fits output/galsim/g1_0.0_g2_0.0/image-004-0.fits > output/shapelens/g1_0.0_g2_0.0/result-004.txt\n",
      "keeping existing file output/shapelens/g1_-0.02_g2_0.0/result-004.txt, not running get_shapes -T -g 10 -p output/galsim/psf/starfield_image-004-0.fits output/galsim/g1_-0.02_g2_0.0/image-004-0.fits > output/shapelens/g1_-0.02_g2_0.0/result-004.txt\n",
      "keeping existing file output/shapelens/g1_0.0_g2_0.02/result-005.txt, not running get_shapes -T -g 10 -p output/galsim/psf/starfield_image-005-0.fits output/galsim/g1_0.0_g2_0.02/image-005-0.fits > output/shapelens/g1_0.0_g2_0.02/result-005.txt\n",
      "keeping existing file output/shapelens/g1_0.0_g2_-0.02/result-005.txt, not running get_shapes -T -g 10 -p output/galsim/psf/starfield_image-005-0.fits output/galsim/g1_0.0_g2_-0.02/image-005-0.fits > output/shapelens/g1_0.0_g2_-0.02/result-005.txt\n",
      "keeping existing file output/shapelens/g1_0.02_g2_0.0/result-005.txt, not running get_shapes -T -g 10 -p output/galsim/psf/starfield_image-005-0.fits output/galsim/g1_0.02_g2_0.0/image-005-0.fits > output/shapelens/g1_0.02_g2_0.0/result-005.txt\n",
      "keeping existing file output/shapelens/g1_0.0_g2_0.0/result-005.txt, not running get_shapes -T -g 10 -p output/galsim/psf/starfield_image-005-0.fits output/galsim/g1_0.0_g2_0.0/image-005-0.fits > output/shapelens/g1_0.0_g2_0.0/result-005.txt\n",
      "keeping existing file output/shapelens/g1_-0.02_g2_0.0/result-005.txt, not running get_shapes -T -g 10 -p output/galsim/psf/starfield_image-005-0.fits output/galsim/g1_-0.02_g2_0.0/image-005-0.fits > output/shapelens/g1_-0.02_g2_0.0/result-005.txt\n",
      "keeping existing file output/shapelens/g1_0.0_g2_0.02/result-006.txt, not running get_shapes -T -g 10 -p output/galsim/psf/starfield_image-006-0.fits output/galsim/g1_0.0_g2_0.02/image-006-0.fits > output/shapelens/g1_0.0_g2_0.02/result-006.txt\n",
      "keeping existing file output/shapelens/g1_0.0_g2_-0.02/result-006.txt, not running get_shapes -T -g 10 -p output/galsim/psf/starfield_image-006-0.fits output/galsim/g1_0.0_g2_-0.02/image-006-0.fits > output/shapelens/g1_0.0_g2_-0.02/result-006.txt\n",
      "keeping existing file output/shapelens/g1_0.02_g2_0.0/result-006.txt, not running get_shapes -T -g 10 -p output/galsim/psf/starfield_image-006-0.fits output/galsim/g1_0.02_g2_0.0/image-006-0.fits > output/shapelens/g1_0.02_g2_0.0/result-006.txt\n",
      "keeping existing file output/shapelens/g1_0.0_g2_0.0/result-006.txt, not running get_shapes -T -g 10 -p output/galsim/psf/starfield_image-006-0.fits output/galsim/g1_0.0_g2_0.0/image-006-0.fits > output/shapelens/g1_0.0_g2_0.0/result-006.txt\n",
      "keeping existing file output/shapelens/g1_-0.02_g2_0.0/result-006.txt, not running get_shapes -T -g 10 -p output/galsim/psf/starfield_image-006-0.fits output/galsim/g1_-0.02_g2_0.0/image-006-0.fits > output/shapelens/g1_-0.02_g2_0.0/result-006.txt\n",
      "keeping existing file output/shapelens/g1_0.0_g2_0.02/result-007.txt, not running get_shapes -T -g 10 -p output/galsim/psf/starfield_image-007-0.fits output/galsim/g1_0.0_g2_0.02/image-007-0.fits > output/shapelens/g1_0.0_g2_0.02/result-007.txt\n",
      "keeping existing file output/shapelens/g1_0.0_g2_-0.02/result-007.txt, not running get_shapes -T -g 10 -p output/galsim/psf/starfield_image-007-0.fits output/galsim/g1_0.0_g2_-0.02/image-007-0.fits > output/shapelens/g1_0.0_g2_-0.02/result-007.txt\n",
      "keeping existing file output/shapelens/g1_0.02_g2_0.0/result-007.txt, not running get_shapes -T -g 10 -p output/galsim/psf/starfield_image-007-0.fits output/galsim/g1_0.02_g2_0.0/image-007-0.fits > output/shapelens/g1_0.02_g2_0.0/result-007.txt\n",
      "keeping existing file output/shapelens/g1_0.0_g2_0.0/result-007.txt, not running get_shapes -T -g 10 -p output/galsim/psf/starfield_image-007-0.fits output/galsim/g1_0.0_g2_0.0/image-007-0.fits > output/shapelens/g1_0.0_g2_0.0/result-007.txt\n",
      "keeping existing file output/shapelens/g1_-0.02_g2_0.0/result-007.txt, not running get_shapes -T -g 10 -p output/galsim/psf/starfield_image-007-0.fits output/galsim/g1_-0.02_g2_0.0/image-007-0.fits > output/shapelens/g1_-0.02_g2_0.0/result-007.txt\n",
      "keeping existing file output/shapelens/g1_0.0_g2_0.02/result-008.txt, not running get_shapes -T -g 10 -p output/galsim/psf/starfield_image-008-0.fits output/galsim/g1_0.0_g2_0.02/image-008-0.fits > output/shapelens/g1_0.0_g2_0.02/result-008.txt\n",
      "keeping existing file output/shapelens/g1_0.0_g2_-0.02/result-008.txt, not running get_shapes -T -g 10 -p output/galsim/psf/starfield_image-008-0.fits output/galsim/g1_0.0_g2_-0.02/image-008-0.fits > output/shapelens/g1_0.0_g2_-0.02/result-008.txt\n",
      "keeping existing file output/shapelens/g1_0.02_g2_0.0/result-008.txt, not running get_shapes -T -g 10 -p output/galsim/psf/starfield_image-008-0.fits output/galsim/g1_0.02_g2_0.0/image-008-0.fits > output/shapelens/g1_0.02_g2_0.0/result-008.txt\n",
      "keeping existing file output/shapelens/g1_0.0_g2_0.0/result-008.txt, not running get_shapes -T -g 10 -p output/galsim/psf/starfield_image-008-0.fits output/galsim/g1_0.0_g2_0.0/image-008-0.fits > output/shapelens/g1_0.0_g2_0.0/result-008.txt\n",
      "keeping existing file output/shapelens/g1_-0.02_g2_0.0/result-008.txt, not running get_shapes -T -g 10 -p output/galsim/psf/starfield_image-008-0.fits output/galsim/g1_-0.02_g2_0.0/image-008-0.fits > output/shapelens/g1_-0.02_g2_0.0/result-008.txt\n",
      "keeping existing file output/shapelens/g1_0.0_g2_0.02/result-009.txt, not running get_shapes -T -g 10 -p output/galsim/psf/starfield_image-009-0.fits output/galsim/g1_0.0_g2_0.02/image-009-0.fits > output/shapelens/g1_0.0_g2_0.02/result-009.txt\n",
      "keeping existing file output/shapelens/g1_0.0_g2_-0.02/result-009.txt, not running get_shapes -T -g 10 -p output/galsim/psf/starfield_image-009-0.fits output/galsim/g1_0.0_g2_-0.02/image-009-0.fits > output/shapelens/g1_0.0_g2_-0.02/result-009.txt\n",
      "keeping existing file output/shapelens/g1_0.02_g2_0.0/result-009.txt, not running get_shapes -T -g 10 -p output/galsim/psf/starfield_image-009-0.fits output/galsim/g1_0.02_g2_0.0/image-009-0.fits > output/shapelens/g1_0.02_g2_0.0/result-009.txt\n",
      "keeping existing file output/shapelens/g1_0.0_g2_0.0/result-009.txt, not running get_shapes -T -g 10 -p output/galsim/psf/starfield_image-009-0.fits output/galsim/g1_0.0_g2_0.0/image-009-0.fits > output/shapelens/g1_0.0_g2_0.0/result-009.txt\n",
      "keeping existing file output/shapelens/g1_-0.02_g2_0.0/result-009.txt, not running get_shapes -T -g 10 -p output/galsim/psf/starfield_image-009-0.fits output/galsim/g1_-0.02_g2_0.0/image-009-0.fits > output/shapelens/g1_-0.02_g2_0.0/result-009.txt\n",
      "running get_shapes -T -g 10 -p output/galsim/psf/starfield_image-010-0.fits output/galsim/g1_0.0_g2_0.02/image-010-0.fits > output/shapelens/g1_0.0_g2_0.02/result-010.txt\n"
     ]
    },
    {
     "name": "stdout",
     "output_type": "stream",
     "text": [
      "running get_shapes -T -g 10 -p output/galsim/psf/starfield_image-010-0.fits output/galsim/g1_0.0_g2_-0.02/image-010-0.fits > output/shapelens/g1_0.0_g2_-0.02/result-010.txt\n",
      "running get_shapes -T -g 10 -p output/galsim/psf/starfield_image-010-0.fits output/galsim/g1_0.02_g2_0.0/image-010-0.fits > output/shapelens/g1_0.02_g2_0.0/result-010.txt\n",
      "running get_shapes -T -g 10 -p output/galsim/psf/starfield_image-010-0.fits output/galsim/g1_0.0_g2_0.0/image-010-0.fits > output/shapelens/g1_0.0_g2_0.0/result-010.txt\n",
      "running get_shapes -T -g 10 -p output/galsim/psf/starfield_image-010-0.fits output/galsim/g1_-0.02_g2_0.0/image-010-0.fits > output/shapelens/g1_-0.02_g2_0.0/result-010.txt\n",
      "running get_shapes -T -g 10 -p output/galsim/psf/starfield_image-011-0.fits output/galsim/g1_0.0_g2_0.02/image-011-0.fits > output/shapelens/g1_0.0_g2_0.02/result-011.txt\n",
      "running get_shapes -T -g 10 -p output/galsim/psf/starfield_image-011-0.fits output/galsim/g1_0.0_g2_-0.02/image-011-0.fits > output/shapelens/g1_0.0_g2_-0.02/result-011.txt\n",
      "running get_shapes -T -g 10 -p output/galsim/psf/starfield_image-011-0.fits output/galsim/g1_0.02_g2_0.0/image-011-0.fits > output/shapelens/g1_0.02_g2_0.0/result-011.txt\n",
      "running get_shapes -T -g 10 -p output/galsim/psf/starfield_image-011-0.fits output/galsim/g1_0.0_g2_0.0/image-011-0.fits > output/shapelens/g1_0.0_g2_0.0/result-011.txt\n",
      "running get_shapes -T -g 10 -p output/galsim/psf/starfield_image-011-0.fits output/galsim/g1_-0.02_g2_0.0/image-011-0.fits > output/shapelens/g1_-0.02_g2_0.0/result-011.txt\n",
      "running get_shapes -T -g 10 -p output/galsim/psf/starfield_image-012-0.fits output/galsim/g1_0.0_g2_0.02/image-012-0.fits > output/shapelens/g1_0.0_g2_0.02/result-012.txt\n",
      "running get_shapes -T -g 10 -p output/galsim/psf/starfield_image-012-0.fits output/galsim/g1_0.0_g2_-0.02/image-012-0.fits > output/shapelens/g1_0.0_g2_-0.02/result-012.txt\n",
      "running get_shapes -T -g 10 -p output/galsim/psf/starfield_image-012-0.fits output/galsim/g1_0.02_g2_0.0/image-012-0.fits > output/shapelens/g1_0.02_g2_0.0/result-012.txt\n",
      "running get_shapes -T -g 10 -p output/galsim/psf/starfield_image-012-0.fits output/galsim/g1_0.0_g2_0.0/image-012-0.fits > output/shapelens/g1_0.0_g2_0.0/result-012.txt\n",
      "running get_shapes -T -g 10 -p output/galsim/psf/starfield_image-012-0.fits output/galsim/g1_-0.02_g2_0.0/image-012-0.fits > output/shapelens/g1_-0.02_g2_0.0/result-012.txt\n",
      "running get_shapes -T -g 10 -p output/galsim/psf/starfield_image-013-0.fits output/galsim/g1_0.0_g2_0.02/image-013-0.fits > output/shapelens/g1_0.0_g2_0.02/result-013.txt\n",
      "running get_shapes -T -g 10 -p output/galsim/psf/starfield_image-013-0.fits output/galsim/g1_0.0_g2_-0.02/image-013-0.fits > output/shapelens/g1_0.0_g2_-0.02/result-013.txt\n",
      "running get_shapes -T -g 10 -p output/galsim/psf/starfield_image-013-0.fits output/galsim/g1_0.02_g2_0.0/image-013-0.fits > output/shapelens/g1_0.02_g2_0.0/result-013.txt\n",
      "running get_shapes -T -g 10 -p output/galsim/psf/starfield_image-013-0.fits output/galsim/g1_0.0_g2_0.0/image-013-0.fits > output/shapelens/g1_0.0_g2_0.0/result-013.txt\n",
      "running get_shapes -T -g 10 -p output/galsim/psf/starfield_image-013-0.fits output/galsim/g1_-0.02_g2_0.0/image-013-0.fits > output/shapelens/g1_-0.02_g2_0.0/result-013.txt\n",
      "running get_shapes -T -g 10 -p output/galsim/psf/starfield_image-014-0.fits output/galsim/g1_0.0_g2_0.02/image-014-0.fits > output/shapelens/g1_0.0_g2_0.02/result-014.txt\n",
      "running get_shapes -T -g 10 -p output/galsim/psf/starfield_image-014-0.fits output/galsim/g1_0.0_g2_-0.02/image-014-0.fits > output/shapelens/g1_0.0_g2_-0.02/result-014.txt\n",
      "running get_shapes -T -g 10 -p output/galsim/psf/starfield_image-014-0.fits output/galsim/g1_0.02_g2_0.0/image-014-0.fits > output/shapelens/g1_0.02_g2_0.0/result-014.txt\n",
      "running get_shapes -T -g 10 -p output/galsim/psf/starfield_image-014-0.fits output/galsim/g1_0.0_g2_0.0/image-014-0.fits > output/shapelens/g1_0.0_g2_0.0/result-014.txt\n",
      "running get_shapes -T -g 10 -p output/galsim/psf/starfield_image-014-0.fits output/galsim/g1_-0.02_g2_0.0/image-014-0.fits > output/shapelens/g1_-0.02_g2_0.0/result-014.txt\n",
      "running get_shapes -T -g 10 -p output/galsim/psf/starfield_image-015-0.fits output/galsim/g1_0.0_g2_0.02/image-015-0.fits > output/shapelens/g1_0.0_g2_0.02/result-015.txt\n",
      "running get_shapes -T -g 10 -p output/galsim/psf/starfield_image-015-0.fits output/galsim/g1_0.0_g2_-0.02/image-015-0.fits > output/shapelens/g1_0.0_g2_-0.02/result-015.txt\n",
      "running get_shapes -T -g 10 -p output/galsim/psf/starfield_image-015-0.fits output/galsim/g1_0.02_g2_0.0/image-015-0.fits > output/shapelens/g1_0.02_g2_0.0/result-015.txt\n",
      "running get_shapes -T -g 10 -p output/galsim/psf/starfield_image-015-0.fits output/galsim/g1_0.0_g2_0.0/image-015-0.fits > output/shapelens/g1_0.0_g2_0.0/result-015.txt\n",
      "running get_shapes -T -g 10 -p output/galsim/psf/starfield_image-015-0.fits output/galsim/g1_-0.02_g2_0.0/image-015-0.fits > output/shapelens/g1_-0.02_g2_0.0/result-015.txt\n",
      "running get_shapes -T -g 10 -p output/galsim/psf/starfield_image-016-0.fits output/galsim/g1_0.0_g2_0.02/image-016-0.fits > output/shapelens/g1_0.0_g2_0.02/result-016.txt\n",
      "running get_shapes -T -g 10 -p output/galsim/psf/starfield_image-016-0.fits output/galsim/g1_0.0_g2_-0.02/image-016-0.fits > output/shapelens/g1_0.0_g2_-0.02/result-016.txt\n",
      "running get_shapes -T -g 10 -p output/galsim/psf/starfield_image-016-0.fits output/galsim/g1_0.02_g2_0.0/image-016-0.fits > output/shapelens/g1_0.02_g2_0.0/result-016.txt\n",
      "running get_shapes -T -g 10 -p output/galsim/psf/starfield_image-016-0.fits output/galsim/g1_0.0_g2_0.0/image-016-0.fits > output/shapelens/g1_0.0_g2_0.0/result-016.txt\n",
      "running get_shapes -T -g 10 -p output/galsim/psf/starfield_image-016-0.fits output/galsim/g1_-0.02_g2_0.0/image-016-0.fits > output/shapelens/g1_-0.02_g2_0.0/result-016.txt\n",
      "running get_shapes -T -g 10 -p output/galsim/psf/starfield_image-017-0.fits output/galsim/g1_0.0_g2_0.02/image-017-0.fits > output/shapelens/g1_0.0_g2_0.02/result-017.txt\n",
      "running get_shapes -T -g 10 -p output/galsim/psf/starfield_image-017-0.fits output/galsim/g1_0.0_g2_-0.02/image-017-0.fits > output/shapelens/g1_0.0_g2_-0.02/result-017.txt\n",
      "running get_shapes -T -g 10 -p output/galsim/psf/starfield_image-017-0.fits output/galsim/g1_0.02_g2_0.0/image-017-0.fits > output/shapelens/g1_0.02_g2_0.0/result-017.txt\n",
      "running get_shapes -T -g 10 -p output/galsim/psf/starfield_image-017-0.fits output/galsim/g1_0.0_g2_0.0/image-017-0.fits > output/shapelens/g1_0.0_g2_0.0/result-017.txt\n",
      "running get_shapes -T -g 10 -p output/galsim/psf/starfield_image-017-0.fits output/galsim/g1_-0.02_g2_0.0/image-017-0.fits > output/shapelens/g1_-0.02_g2_0.0/result-017.txt\n",
      "running get_shapes -T -g 10 -p output/galsim/psf/starfield_image-018-0.fits output/galsim/g1_0.0_g2_0.02/image-018-0.fits > output/shapelens/g1_0.0_g2_0.02/result-018.txt\n",
      "running get_shapes -T -g 10 -p output/galsim/psf/starfield_image-018-0.fits output/galsim/g1_0.0_g2_-0.02/image-018-0.fits > output/shapelens/g1_0.0_g2_-0.02/result-018.txt\n",
      "running get_shapes -T -g 10 -p output/galsim/psf/starfield_image-018-0.fits output/galsim/g1_0.02_g2_0.0/image-018-0.fits > output/shapelens/g1_0.02_g2_0.0/result-018.txt\n",
      "running get_shapes -T -g 10 -p output/galsim/psf/starfield_image-018-0.fits output/galsim/g1_0.0_g2_0.0/image-018-0.fits > output/shapelens/g1_0.0_g2_0.0/result-018.txt\n",
      "running get_shapes -T -g 10 -p output/galsim/psf/starfield_image-018-0.fits output/galsim/g1_-0.02_g2_0.0/image-018-0.fits > output/shapelens/g1_-0.02_g2_0.0/result-018.txt\n",
      "running get_shapes -T -g 10 -p output/galsim/psf/starfield_image-019-0.fits output/galsim/g1_0.0_g2_0.02/image-019-0.fits > output/shapelens/g1_0.0_g2_0.02/result-019.txt\n",
      "running get_shapes -T -g 10 -p output/galsim/psf/starfield_image-019-0.fits output/galsim/g1_0.0_g2_-0.02/image-019-0.fits > output/shapelens/g1_0.0_g2_-0.02/result-019.txt\n",
      "running get_shapes -T -g 10 -p output/galsim/psf/starfield_image-019-0.fits output/galsim/g1_0.02_g2_0.0/image-019-0.fits > output/shapelens/g1_0.02_g2_0.0/result-019.txt\n",
      "running get_shapes -T -g 10 -p output/galsim/psf/starfield_image-019-0.fits output/galsim/g1_0.0_g2_0.0/image-019-0.fits > output/shapelens/g1_0.0_g2_0.0/result-019.txt\n"
     ]
    },
    {
     "name": "stdout",
     "output_type": "stream",
     "text": [
      "running get_shapes -T -g 10 -p output/galsim/psf/starfield_image-019-0.fits output/galsim/g1_-0.02_g2_0.0/image-019-0.fits > output/shapelens/g1_-0.02_g2_0.0/result-019.txt\n",
      "*** End all_shapes_shapelens ***\n"
     ]
    }
   ],
   "source": [
    "# call get_shapes\n",
    "all_shapes_shapelens(g_values, ksb_input_base_dir, ksb_output_base_dir, nfiles, nxy_tiles, job=job)"
   ]
  },
  {
   "cell_type": "markdown",
   "metadata": {},
   "source": [
    "### Read shear estimate results from files"
   ]
  },
  {
   "cell_type": "code",
   "execution_count": 36,
   "metadata": {},
   "outputs": [
    {
     "name": "stdout",
     "output_type": "stream",
     "text": [
      "*** Start all_read_shapelens ***\n",
      "Read 50 files with measured galaxy properties including shapes.\n",
      "Read 0 files with PSF shapes.\n",
      "*** End all_read_shapelens ***\n"
     ]
    }
   ],
   "source": [
    "# Set input directories = KSB and galsim output directories\n",
    "results_input_base_dir  = ksb_output_base_dir\n",
    "psf_input_dir           = '{}/psf/'.format(galsim_output_base_dir)\n",
    "\n",
    "# Read files\n",
    "results = all_read_shapelens(g_dict, results_input_base_dir, psf_input_dir, nfiles, nobj_per_file_exp=nxy_tiles**2)"
   ]
  },
  {
   "cell_type": "markdown",
   "metadata": {},
   "source": [
    "### Compute shear response matrix and save to file"
   ]
  },
  {
   "cell_type": "code",
   "execution_count": 37,
   "metadata": {},
   "outputs": [
    {
     "name": "stdout",
     "output_type": "stream",
     "text": [
      "*** Start shear_response ***\n",
      "Saving R to file output/R\n",
      "*** End shear_response ***\n"
     ]
    }
   ],
   "source": [
    "# Compute shear response\n",
    "R = shear_response(results, dg, output_dir=R_output_dir)"
   ]
  },
  {
   "cell_type": "markdown",
   "metadata": {},
   "source": [
    "### Compute and print mean and std of shear response matrix"
   ]
  },
  {
   "cell_type": "code",
   "execution_count": 38,
   "metadata": {},
   "outputs": [
    {
     "name": "stdout",
     "output_type": "stream",
     "text": [
      "mean(R)\n",
      "[[ 0.94578332  0.00660148]\n",
      " [-0.00458341  0.9585898 ]]\n",
      "std(R)\n",
      "[[0.24169028 0.17870293]\n",
      " [0.24483201 0.28564777]]\n"
     ]
    }
   ],
   "source": [
    "# If not compute above, shear response can be read from files\n",
    "#R = read_R(R_output_dir)\n",
    "\n",
    "print('mean(R)')\n",
    "print(R.mean(axis=2))\n",
    "\n",
    "print('std(R)')\n",
    "print(R.std(axis=2))"
   ]
  },
  {
   "cell_type": "markdown",
   "metadata": {},
   "source": [
    "### Plot shear response"
   ]
  },
  {
   "cell_type": "code",
   "execution_count": 41,
   "metadata": {},
   "outputs": [
    {
     "name": "stdout",
     "output_type": "stream",
     "text": [
      "Plot saved to snr_m1.pdf\n"
     ]
    },
    {
     "data": {
      "image/png": "[encoded data removed]",
      "text/plain": [
       "<matplotlib.figure.Figure at 0x112221c50>"
      ]
     },
     "metadata": {},
     "output_type": "display_data"
    }
   ],
   "source": [
    "# Variable on x-axis\n",
    "xvar  = results[(0, 0)].sn\n",
    "\n",
    "# Variable name = xlabel\n",
    "xname = 'SNR'\n",
    "\n",
    "# Number of x-bins\n",
    "nbins = 3\n",
    "\n",
    "# Variables on y-axis, can be array for multiple curves in plot\n",
    "yvar   = [shear_bias_m(R, i) for i in [0, 1]]\n",
    "yvar.append(R[0,1])\n",
    "\n",
    "# Variable names for legend\n",
    "yname  = ['$m_1$', '$m_2$', '$R_{12}$']\n",
    "\n",
    "# Color of points and error bars\n",
    "color  = ['g', 'r', 'b']\n",
    "\n",
    "# Point types\n",
    "marker = ['o', 's', 'd']\n",
    "\n",
    "# Create plot and save to file\n",
    "x_mean, y_mean, y_std = \\\n",
    "    plot_mean_per_bin_several(xvar, xname, yvar, yname, nbins, error_mode='std', \\\n",
    "                              color=color, lw=2, marker=marker, out_name='snr_m1.pdf')"
   ]
  }
 ],
 "metadata": {
  "kernelspec": {
   "display_name": "Python 2",
   "language": "python",
   "name": "python2"
  },
  "language_info": {
   "codemirror_mode": {
    "name": "ipython",
    "version": 2
   },
   "file_extension": ".py",
   "mimetype": "text/x-python",
   "name": "python",
   "nbconvert_exporter": "python",
   "pygments_lexer": "ipython2",
   "version": "2.7.10"
  }
 },
 "nbformat": 4,
 "nbformat_minor": 2
}
